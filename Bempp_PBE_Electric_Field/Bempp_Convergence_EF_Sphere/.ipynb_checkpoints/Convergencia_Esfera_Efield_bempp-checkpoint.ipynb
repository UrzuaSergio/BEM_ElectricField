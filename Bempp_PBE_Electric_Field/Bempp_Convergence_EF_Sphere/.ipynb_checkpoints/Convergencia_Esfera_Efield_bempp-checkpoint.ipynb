{
 "cells": [
  {
   "cell_type": "markdown",
   "metadata": {},
   "source": [
    "## Estudio de Convergencia: Calculos con Bempp"
   ]
  },
  {
   "cell_type": "markdown",
   "metadata": {},
   "source": [
    "### Esfera con Carga Electrica Puntual sometido a un Campo Electrico Externo"
   ]
  },
  {
   "cell_type": "markdown",
   "metadata": {},
   "source": [
    "#### Efield = 2.4 y kappa = 0.125"
   ]
  },
  {
   "cell_type": "code",
   "execution_count": 24,
   "metadata": {},
   "outputs": [
    {
     "name": "stdout",
     "output_type": "stream",
     "text": [
      "p_solv:  1.17476591136\n",
      "E_solv_extrapolado: -14320.109206 Kcal/mol\n"
     ]
    }
   ],
   "source": [
    "from numpy import *\n",
    "from pylab import *\n",
    "import os\n",
    "\n",
    "\n",
    "os.system('mkdir Convergencia/')\n",
    "\n",
    "Esolv = array([-14316.3840,-14318.4438,-14319.3562])\n",
    "N=array([2348,4744,9414])\n",
    "\n",
    "r=2\n",
    "p_solv = log((Esolv[0] - Esolv[1])/(Esolv[1] - Esolv[2]))/log(r)\n",
    "print(\"p_solv: \", p_solv)\n",
    "\n",
    "fsolvanalitico=-14320.109206\n",
    "print('E_solv_extrapolado:',fsolvanalitico,'Kcal/mol')"
   ]
  },
  {
   "cell_type": "code",
   "execution_count": 25,
   "metadata": {},
   "outputs": [
    {
     "name": "stdout",
     "output_type": "stream",
     "text": [
      "2.23681552726 2.21167693219\n"
     ]
    }
   ],
   "source": [
    "PyGerr = abs(Esolv-fsolvanalitico)/abs(fsolvanalitico)\n",
    "figure(figsize=(3,2), dpi=80)\n",
    "print(PyGerr[0]/PyGerr[1], PyGerr[1]/PyGerr[2])\n",
    "loglog(N, PyGerr, c='k', marker='o', mfc='w', ms=3, ls='', lw=0.5, label=\"E = 2.4\")\n",
    "loglog(N, 1./(N*2), c='k', marker='', mfc='w', ms=3, ls=':', lw=0.8, label=None)\n",
    "text(3e3, 0.25e-3,'1/N',fontsize=4,rotation=-8)\n",
    "ylabel('Error', fontsize=10)\n",
    "xlabel('N mesh',fontsize=10)\n",
    "subplots_adjust(left=0.25, bottom=0.25, right=0.96, top=0.96)\n",
    "axis([1000,20000,0.0000001, 1])\n",
    "legend(loc='lower right')\n",
    "savefig('Convergencia/Error_Esfera_Ef2.4_bempp.pdf')\n",
    "clf()"
   ]
  },
  {
   "cell_type": "markdown",
   "metadata": {},
   "source": [
    "#### Efield = 0.8  y kappa = 0.125"
   ]
  },
  {
   "cell_type": "code",
   "execution_count": 26,
   "metadata": {},
   "outputs": [
    {
     "name": "stdout",
     "output_type": "stream",
     "text": [
      "p_solv:  1.16766549426\n",
      "E_solv_extrapolado: -4782.1999 Kcal/mol\n"
     ]
    }
   ],
   "source": [
    "Esolv = array([-4780.9856,-4781.6555,-4781.9537])\n",
    "N=array([2348,4744,9414])\n",
    "\n",
    "r=2\n",
    "p_solv = log((Esolv[0] - Esolv[1])/(Esolv[1] - Esolv[2]))/log(r)\n",
    "print(\"p_solv: \", p_solv)\n",
    "\n",
    "fsolvanalitico=-4782.1999\n",
    "print('E_solv_extrapolado:',fsolvanalitico,'Kcal/mol')"
   ]
  },
  {
   "cell_type": "code",
   "execution_count": 27,
   "metadata": {},
   "outputs": [
    {
     "name": "stdout",
     "output_type": "stream",
     "text": [
      "2.23052902278 2.21121039805\n"
     ]
    }
   ],
   "source": [
    "PyGerr = abs(Esolv-fsolvanalitico)/abs(fsolvanalitico)\n",
    "figure(figsize=(3,2), dpi=80)\n",
    "print(PyGerr[0]/PyGerr[1], PyGerr[1]/PyGerr[2])\n",
    "loglog(N, PyGerr, c='k', marker='o', mfc='w', ms=3, ls='', lw=0.2, label=\"E = 0.8\")\n",
    "loglog(N, 1./(N*2), c='k', marker='', mfc='w', ms=3, ls=':', lw=0.8, label=None)\n",
    "text(3e3, 0.25e-3,'1/N',fontsize=4,rotation=-8)\n",
    "ylabel('Error', fontsize=10)\n",
    "xlabel('N mesh',fontsize=10)\n",
    "subplots_adjust(left=0.25, bottom=0.25, right=0.96, top=0.96)\n",
    "axis([1000,20000,0.0000001, 1])\n",
    "legend(loc='lower right')\n",
    "savefig('Convergencia/Error_Esfera_Ef0.8_bempp.pdf')\n",
    "clf()"
   ]
  },
  {
   "cell_type": "markdown",
   "metadata": {},
   "source": [
    "#### Efield = 0 y kappa = 0.125"
   ]
  },
  {
   "cell_type": "code",
   "execution_count": 28,
   "metadata": {},
   "outputs": [
    {
     "name": "stdout",
     "output_type": "stream",
     "text": [
      "p_solv:  0.976021137066\n",
      "E_solv_extrapolado: -13.245345 Kcal/mol\n"
     ]
    }
   ],
   "source": [
    "Esolv = array([-13.2819,-13.2640,-13.2549])\n",
    "N=array([2348,4744,9414])\n",
    "\n",
    "r=2\n",
    "p_solv = log((Esolv[0] - Esolv[1])/(Esolv[1] - Esolv[2]))/log(r)\n",
    "print(\"p_solv: \", p_solv)\n",
    "\n",
    "fsolvanalitico=-13.245345\n",
    "print('E_solv_extrapolado:',fsolvanalitico,'Kcal/mol')"
   ]
  },
  {
   "cell_type": "code",
   "execution_count": 29,
   "metadata": {},
   "outputs": [
    {
     "name": "stdout",
     "output_type": "stream",
     "text": [
      "1.9595282766 1.95238095238\n"
     ]
    }
   ],
   "source": [
    "PyGerr = abs(Esolv-fsolvanalitico)/abs(fsolvanalitico)\n",
    "figure(figsize=(3,2), dpi=80)\n",
    "print(PyGerr[0]/PyGerr[1], PyGerr[1]/PyGerr[2])\n",
    "loglog(N, PyGerr, c='k', marker='o', mfc='w', ms=3, ls='', lw=0.8,label=\"E = 0\")\n",
    "loglog(N, 6.5/(N), c='k', marker='', mfc='w', ms=3, ls=':', lw=0.8, label=None)\n",
    "text(3.1e3, 3e-3,'1/N',fontsize=4,rotation=-8)\n",
    "ylabel('Error', fontsize=10)\n",
    "xlabel('N mesh',fontsize=10)\n",
    "subplots_adjust(left=0.25, bottom=0.25, right=0.96, top=0.96)\n",
    "axis([1000,20000,0.0000001, 1])\n",
    "legend(loc='lower right')\n",
    "savefig('Convergencia/Error_Esfera_Ef0.0_bempp.pdf')\n",
    "clf()"
   ]
  },
  {
   "cell_type": "code",
   "execution_count": null,
   "metadata": {
    "collapsed": true
   },
   "outputs": [],
   "source": []
  },
  {
   "cell_type": "code",
   "execution_count": null,
   "metadata": {
    "collapsed": true
   },
   "outputs": [],
   "source": []
  }
 ],
 "metadata": {
  "kernelspec": {
   "display_name": "Python 3",
   "language": "python",
   "name": "python3"
  },
  "language_info": {
   "codemirror_mode": {
    "name": "ipython",
    "version": 3
   },
   "file_extension": ".py",
   "mimetype": "text/x-python",
   "name": "python",
   "nbconvert_exporter": "python",
   "pygments_lexer": "ipython3",
   "version": "3.6.2"
  }
 },
 "nbformat": 4,
 "nbformat_minor": 2
}
