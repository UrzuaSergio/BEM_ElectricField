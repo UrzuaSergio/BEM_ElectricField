{
 "cells": [
  {
   "cell_type": "markdown",
   "metadata": {},
   "source": [
    "## Estudio de Convergencia: Calculos con Bempp"
   ]
  },
  {
   "cell_type": "markdown",
   "metadata": {},
   "source": [
    "### Esfera con Carga Electrica Puntual sometido a un Campo Electrico Externo"
   ]
  },
  {
   "cell_type": "markdown",
   "metadata": {},
   "source": [
    "#### Efield = 2.4"
   ]
  },
  {
   "cell_type": "code",
   "execution_count": 1,
   "metadata": {},
   "outputs": [
    {
     "name": "stdout",
     "output_type": "stream",
     "text": [
      "E_solv_extrapolado: -14320.109206 Kcal/mol\n"
     ]
    }
   ],
   "source": [
    "from numpy import *\n",
    "from pylab import *\n",
    "import os\n",
    "\n",
    "\n",
    "os.system('mkdir Convergencia/')\n",
    "#Esolv = array([-13.2819,-13.2640,-13.2549])\n",
    "Esolv = array([-14316.3840,-14318.4438,-14319.3562])\n",
    "N=array([2348,4744,9414])\n",
    "\n",
    "#fsolvanalitico=-13.056635\n",
    "fsolvanalitico=-14320.109206\n",
    "print('E_solv_extrapolado:',fsolvanalitico,'Kcal/mol')"
   ]
  },
  {
   "cell_type": "code",
   "execution_count": 2,
   "metadata": {},
   "outputs": [
    {
     "name": "stdout",
     "output_type": "stream",
     "text": [
      "[2.60138100e-04 1.16298415e-04 5.25838169e-05]\n"
     ]
    },
    {
     "data": {
      "text/plain": [
       "<Figure size 240x160 with 0 Axes>"
      ]
     },
     "metadata": {},
     "output_type": "display_data"
    }
   ],
   "source": [
    "PyGerr = abs(Esolv-fsolvanalitico)/abs(fsolvanalitico)\n",
    "figure(figsize=(3,2), dpi=80)\n",
    "print(PyGerr)\n",
    "loglog(N, PyGerr, c='k', marker='o', mfc='w', ms=3, ls='', lw=0.5, label=\"E = 2.4\")\n",
    "loglog(N, 1./(N*2), c='k', marker='', mfc='w', ms=3, ls=':', lw=0.8, label=None)\n",
    "text(3e3, 0.25e-3,'1/N',fontsize=4,rotation=-8)\n",
    "ylabel('Error', fontsize=10)\n",
    "xlabel('N mesh',fontsize=10)\n",
    "subplots_adjust(left=0.25, bottom=0.25, right=0.96, top=0.96)\n",
    "axis([1000,20000,0.0000001, 1])\n",
    "legend(loc='lower right')\n",
    "savefig('Convergencia/Error_Esfera_Ef2.4_bempp.pdf')\n",
    "clf()"
   ]
  },
  {
   "cell_type": "markdown",
   "metadata": {},
   "source": [
    "#### Efield = 0.8"
   ]
  },
  {
   "cell_type": "code",
   "execution_count": 3,
   "metadata": {},
   "outputs": [
    {
     "name": "stdout",
     "output_type": "stream",
     "text": [
      "E_solv_extrapolado: -4782.1999 Kcal/mol\n"
     ]
    }
   ],
   "source": [
    "Esolv = array([-4780.9856,-4781.6555,-4781.9537])\n",
    "N=array([2348,4744,9414])\n",
    "\n",
    "fsolvanalitico=-4782.1999\n",
    "print('E_solv_extrapolado:',fsolvanalitico,'Kcal/mol')"
   ]
  },
  {
   "cell_type": "code",
   "execution_count": 4,
   "metadata": {},
   "outputs": [
    {
     "name": "stdout",
     "output_type": "stream",
     "text": [
      "[2.53920795e-04 1.13838821e-04 5.14825823e-05]\n",
      "[0.00212947 0.00105396 0.00053112]\n"
     ]
    },
    {
     "data": {
      "text/plain": [
       "<Figure size 240x160 with 0 Axes>"
      ]
     },
     "metadata": {},
     "output_type": "display_data"
    }
   ],
   "source": [
    "PyGerr = abs(Esolv-fsolvanalitico)/abs(fsolvanalitico)\n",
    "figure(figsize=(3,2), dpi=80)\n",
    "print(PyGerr)\n",
    "print(1./N*5)\n",
    "loglog(N, PyGerr, c='k', marker='o', mfc='w', ms=3, ls='', lw=0.2, label=\"E = 0.8\")\n",
    "loglog(N, 1./(N*2), c='k', marker='', mfc='w', ms=3, ls=':', lw=0.8, label=None)\n",
    "text(3e3, 0.25e-3,'1/N',fontsize=4,rotation=-8)\n",
    "ylabel('Error', fontsize=10)\n",
    "xlabel('N mesh',fontsize=10)\n",
    "subplots_adjust(left=0.25, bottom=0.25, right=0.96, top=0.96)\n",
    "axis([1000,20000,0.0000001, 1])\n",
    "legend(loc='lower right')\n",
    "savefig('Convergencia/Error_Esfera_Ef0.8_bempp.pdf')\n",
    "clf()"
   ]
  },
  {
   "cell_type": "markdown",
   "metadata": {},
   "source": [
    "#### Efield = 0"
   ]
  },
  {
   "cell_type": "code",
   "execution_count": 5,
   "metadata": {},
   "outputs": [
    {
     "name": "stdout",
     "output_type": "stream",
     "text": [
      "E_solv_extrapolado: -13.245345 Kcal/mol\n"
     ]
    }
   ],
   "source": [
    "Esolv = array([-13.2819,-13.2640,-13.2549])\n",
    "N=array([2348,4744,9414])\n",
    "\n",
    "fsolvanalitico=-13.245345\n",
    "print('E_solv_extrapolado:',fsolvanalitico,'Kcal/mol')"
   ]
  },
  {
   "cell_type": "code",
   "execution_count": 6,
   "metadata": {},
   "outputs": [
    {
     "name": "stdout",
     "output_type": "stream",
     "text": [
      "[0.00275984 0.00140842 0.00072139]\n",
      "[0.00212947 0.00105396 0.00053112]\n"
     ]
    },
    {
     "data": {
      "text/plain": [
       "<Figure size 240x160 with 0 Axes>"
      ]
     },
     "metadata": {},
     "output_type": "display_data"
    }
   ],
   "source": [
    "PyGerr = abs(Esolv-fsolvanalitico)/abs(fsolvanalitico)\n",
    "figure(figsize=(3,2), dpi=80)\n",
    "print(PyGerr)\n",
    "print(1./N*5)\n",
    "loglog(N, PyGerr, c='k', marker='o', mfc='w', ms=3, ls='', lw=0.8,label=\"E = 0\")\n",
    "loglog(N, 6.5/(N), c='k', marker='', mfc='w', ms=3, ls=':', lw=0.8, label=None)\n",
    "text(3.1e3, 3e-3,'1/N',fontsize=4,rotation=-8)\n",
    "ylabel('Error', fontsize=10)\n",
    "xlabel('N mesh',fontsize=10)\n",
    "subplots_adjust(left=0.25, bottom=0.25, right=0.96, top=0.96)\n",
    "axis([1000,20000,0.0000001, 1])\n",
    "legend(loc='lower right')\n",
    "savefig('Convergencia/Error_Esfera_Ef0.0_bempp.pdf')\n",
    "clf()"
   ]
  },
  {
   "cell_type": "code",
   "execution_count": null,
   "metadata": {},
   "outputs": [],
   "source": []
  },
  {
   "cell_type": "code",
   "execution_count": null,
   "metadata": {},
   "outputs": [],
   "source": []
  }
 ],
 "metadata": {
  "kernelspec": {
   "display_name": "Python 3",
   "language": "python",
   "name": "python3"
  },
  "language_info": {
   "codemirror_mode": {
    "name": "ipython",
    "version": 3
   },
   "file_extension": ".py",
   "mimetype": "text/x-python",
   "name": "python",
   "nbconvert_exporter": "python",
   "pygments_lexer": "ipython3",
   "version": "3.6.5"
  }
 },
 "nbformat": 4,
 "nbformat_minor": 2
}
