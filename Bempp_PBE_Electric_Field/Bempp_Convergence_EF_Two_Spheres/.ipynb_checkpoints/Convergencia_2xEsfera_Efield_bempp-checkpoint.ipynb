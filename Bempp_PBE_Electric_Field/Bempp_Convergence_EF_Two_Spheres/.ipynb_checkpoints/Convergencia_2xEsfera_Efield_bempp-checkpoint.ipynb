{
 "cells": [
  {
   "cell_type": "markdown",
   "metadata": {},
   "source": [
    "## Estudio de Convergencia: Calculos con Bempp"
   ]
  },
  {
   "cell_type": "markdown",
   "metadata": {},
   "source": [
    "### Esfera con Carga Electrica Puntual + Surf con Carga sometido a un Campo Electrico Externo"
   ]
  },
  {
   "cell_type": "markdown",
   "metadata": {},
   "source": [
    "#### Efield = 0. y _k_ = 0.125"
   ]
  },
  {
   "cell_type": "code",
   "execution_count": 1,
   "metadata": {},
   "outputs": [
    {
     "name": "stdout",
     "output_type": "stream",
     "text": [
      "p_solv:  1.06836364242\n",
      "p_surf:  1.04001383272\n",
      "E_solv_analitico: 823.2104 Kcal/mol\n",
      "E_surf_analitico: 89684788.211 Kcal/mol\n"
     ]
    }
   ],
   "source": [
    "from numpy import *\n",
    "from pylab import *\n",
    "import os\n",
    "\n",
    "\n",
    "os.system('mkdir Convergencia/')\n",
    "\n",
    "Esolv = array([820.4648, 821.8455, 822.5039])\n",
    "Esurf = array([89385249.3630, 89535534.0498, 89608620.9211])\n",
    "\n",
    "N=array([2348, 4744, 9414])\n",
    "\n",
    "fsolvanalitico_solv= 823.2104\n",
    "fsolvanalitico_surf= 89684788.211\n",
    "\n",
    "r=2\n",
    "p_solv = log((Esolv[0] - Esolv[1])/(Esolv[1] - Esolv[2]))/log(r)\n",
    "print(\"p_solv: \", p_solv)\n",
    "p_surf = log((Esurf[0] - Esurf[1])/(Esurf[1] - Esurf[2]))/log(r)\n",
    "print(\"p_surf: \", p_surf)\n",
    "#fsolvanalitico = Esolv[2] + ((Esolv[2] - Esolv[1])/((r**p) - 1))\n",
    "print('E_solv_analitico:',fsolvanalitico_solv,'Kcal/mol')\n",
    "print('E_surf_analitico:',fsolvanalitico_surf,'Kcal/mol')"
   ]
  },
  {
   "cell_type": "code",
   "execution_count": 2,
   "metadata": {
    "collapsed": true
   },
   "outputs": [],
   "source": [
    "PyGerr_surf = abs(Esurf-fsolvanalitico_surf)/abs(fsolvanalitico_surf)\n",
    "figure(figsize=(3,2), dpi=80)\n",
    "loglog(N, PyGerr_surf, c='k', marker='o', mfc='w', ms=3, ls='', lw=0.5, label=\"E = 0.0\")\n",
    "loglog(N, 8./(N), c='k', marker='', mfc='w', ms=3, ls=':', lw=0.8, label=None)\n",
    "text(3e3, 0.25e-3,'1/N',fontsize=4,rotation=-8)\n",
    "ylabel('Error Esurf', fontsize=10)\n",
    "xlabel('N mesh',fontsize=10)\n",
    "subplots_adjust(left=0.25, bottom=0.25, right=0.96, top=0.96)\n",
    "axis([1000,20000,0.0000001, 1])\n",
    "legend(loc='lower right')\n",
    "savefig('Convergencia/Error_2EsferasCarga_Esurf_Ef0.0_k0.125_bempp.pdf')\n",
    "clf()"
   ]
  },
  {
   "cell_type": "code",
   "execution_count": 3,
   "metadata": {
    "collapsed": true
   },
   "outputs": [],
   "source": [
    "PyGerr_solv = abs(Esolv-fsolvanalitico_solv)/abs(fsolvanalitico_solv)\n",
    "figure(figsize=(3,2), dpi=80)\n",
    "loglog(N, PyGerr_solv, c='k', marker='o', mfc='w', ms=3, ls='', lw=0.5, label=\"E = 0.0\")\n",
    "loglog(N, 8./(N), c='k', marker='', mfc='w', ms=3, ls=':', lw=0.8, label=None)\n",
    "text(3e3, 0.25e-3,'1/N',fontsize=4,rotation=-8)\n",
    "ylabel('Error Esolv', fontsize=10)\n",
    "xlabel('N mesh',fontsize=10)\n",
    "subplots_adjust(left=0.25, bottom=0.25, right=0.96, top=0.96)\n",
    "axis([1000,20000,0.0000001, 1])\n",
    "legend(loc='lower right')\n",
    "savefig('Convergencia/Error_2EsferasCarga_Esolv_Ef0.0_k0.125_bempp.pdf')\n",
    "clf()"
   ]
  },
  {
   "cell_type": "markdown",
   "metadata": {},
   "source": [
    "#### Efield = 0.8 y _k_ = 0.125"
   ]
  },
  {
   "cell_type": "code",
   "execution_count": 4,
   "metadata": {},
   "outputs": [
    {
     "name": "stdout",
     "output_type": "stream",
     "text": [
      "p_solv:  0.967594914134\n",
      "p_surf:  1.02242083192\n",
      "E_solv_analitico: -3691.5503 Kcal/mol\n",
      "E_surf_analitico: -288293971.072 Kcal/mol\n"
     ]
    }
   ],
   "source": [
    "from numpy import *\n",
    "from pylab import *\n",
    "import os\n",
    "\n",
    "\n",
    "os.system('mkdir Convergencia/')\n",
    "\n",
    "Esolv = array([-3694.3821, -3693.0130, -3692.3129])\n",
    "Esurf = array([-287527249.9396, -287912883.0258, -288102726.1837])\n",
    "\n",
    "N=array([2348, 4744, 9414])\n",
    "\n",
    "fsolvanalitico_solv=-3691.5503\n",
    "fsolvanalitico_surf= -288293971.072\n",
    "\n",
    "r=2\n",
    "p_solv = log((Esolv[0] - Esolv[1])/(Esolv[1] - Esolv[2]))/log(r)\n",
    "print(\"p_solv: \", p_solv)\n",
    "p_surf = log((Esurf[0] - Esurf[1])/(Esurf[1] - Esurf[2]))/log(r)\n",
    "print(\"p_surf: \", p_surf)\n",
    "#fsolvanalitico = Esolv[2] + ((Esolv[2] - Esolv[1])/((r**p) - 1))\n",
    "print('E_solv_analitico:',fsolvanalitico_solv,'Kcal/mol')\n",
    "print('E_surf_analitico:',fsolvanalitico_surf,'Kcal/mol')"
   ]
  },
  {
   "cell_type": "code",
   "execution_count": 5,
   "metadata": {
    "collapsed": true
   },
   "outputs": [],
   "source": [
    "PyGerr_surf = abs(Esurf-fsolvanalitico_surf)/abs(fsolvanalitico_surf)\n",
    "figure(figsize=(3,2), dpi=80)\n",
    "loglog(N, PyGerr_surf, c='k', marker='o', mfc='w', ms=3, ls='', lw=0.5, label=\"E = 0.8\")\n",
    "loglog(N, 6./(N), c='k', marker='', mfc='w', ms=3, ls=':', lw=0.8, label=None)\n",
    "text(3e3, 0.25e-3,'1/N',fontsize=4,rotation=-8)\n",
    "ylabel('Error Esurf', fontsize=10)\n",
    "xlabel('N mesh',fontsize=10)\n",
    "subplots_adjust(left=0.25, bottom=0.25, right=0.96, top=0.96)\n",
    "axis([1000,20000,0.0000001, 1])\n",
    "legend(loc='lower right')\n",
    "savefig('Convergencia/Error_2EsferasCarga_Esurf_Ef0.8_k0.125_bempp.pdf')\n",
    "clf()"
   ]
  },
  {
   "cell_type": "code",
   "execution_count": 6,
   "metadata": {
    "collapsed": true
   },
   "outputs": [],
   "source": [
    "PyGerr_solv = abs(Esolv-fsolvanalitico_solv)/abs(fsolvanalitico_solv)\n",
    "figure(figsize=(3,2), dpi=80)\n",
    "loglog(N, PyGerr_solv, c='k', marker='o', mfc='w', ms=3, ls='', lw=0.5, label=\"E = 0.8\")\n",
    "loglog(N, 2./(N), c='k', marker='', mfc='w', ms=3, ls=':', lw=0.8, label=None)\n",
    "text(3e3, 0.25e-3,'1/N',fontsize=4,rotation=-8)\n",
    "ylabel('Error Esolv', fontsize=10)\n",
    "xlabel('N mesh',fontsize=10)\n",
    "subplots_adjust(left=0.25, bottom=0.25, right=0.96, top=0.96)\n",
    "axis([1000,20000,0.0000001, 1])\n",
    "legend(loc='lower right')\n",
    "savefig('Convergencia/Error_2EsferasCarga_Esolv_Ef0.8_k0.125_bempp.pdf')\n",
    "clf()"
   ]
  },
  {
   "cell_type": "markdown",
   "metadata": {},
   "source": [
    "#### Efield = 0. y _k_ = 0.0001"
   ]
  },
  {
   "cell_type": "code",
   "execution_count": 7,
   "metadata": {},
   "outputs": [
    {
     "name": "stdout",
     "output_type": "stream",
     "text": [
      "p_solv:  1.05993193229\n",
      "p_surf:  1.03949479821\n",
      "E_solv_analitico: 2960.1841 Kcal/mol\n",
      "E_surf_analitico: 134653211.997 Kcal/mol\n"
     ]
    }
   ],
   "source": [
    "from numpy import *\n",
    "from pylab import *\n",
    "import os\n",
    "\n",
    "\n",
    "os.system('mkdir Convergencia/')\n",
    "\n",
    "Esolv = array([2951.8385, 2956.1245, 2958.1803])\n",
    "Esurf = array([134127026.6937, 134391625.3036, 134520351.9466])\n",
    "\n",
    "N=array([2348, 4744, 9414])\n",
    "\n",
    "fsolvanalitico_solv=2960.1841\n",
    "fsolvanalitico_surf= 134653211.997\n",
    "\n",
    "r=2\n",
    "p_solv = log((Esolv[0] - Esolv[1])/(Esolv[1] - Esolv[2]))/log(r)\n",
    "print(\"p_solv: \", p_solv)\n",
    "p_surf = log((Esurf[0] - Esurf[1])/(Esurf[1] - Esurf[2]))/log(r)\n",
    "print(\"p_surf: \", p_surf)\n",
    "#fsolvanalitico = Esolv[2] + ((Esolv[2] - Esolv[1])/((r**p) - 1))\n",
    "print('E_solv_analitico:',fsolvanalitico_solv,'Kcal/mol')\n",
    "print('E_surf_analitico:',fsolvanalitico_surf,'Kcal/mol')"
   ]
  },
  {
   "cell_type": "code",
   "execution_count": 8,
   "metadata": {
    "collapsed": true
   },
   "outputs": [],
   "source": [
    "PyGerr_surf = abs(Esurf-fsolvanalitico_surf)/abs(fsolvanalitico_surf)\n",
    "figure(figsize=(3,2), dpi=80)\n",
    "loglog(N, PyGerr_surf, c='k', marker='o', mfc='w', ms=3, ls='', lw=0.5, label=\"E = 0.0\")\n",
    "loglog(N, 8./(N), c='k', marker='', mfc='w', ms=3, ls=':', lw=0.8, label=None)\n",
    "text(3e3, 0.25e-3,'1/N',fontsize=4,rotation=-8)\n",
    "ylabel('Error Esurf', fontsize=10)\n",
    "xlabel('N mesh',fontsize=10)\n",
    "subplots_adjust(left=0.25, bottom=0.25, right=0.96, top=0.96)\n",
    "axis([1000,20000,0.0000001, 1])\n",
    "legend(loc='lower right')\n",
    "savefig('Convergencia/Error_2EsferasCarga_Esurf_Ef0.0_k0.0001_bempp.pdf')\n",
    "clf()"
   ]
  },
  {
   "cell_type": "code",
   "execution_count": 9,
   "metadata": {
    "collapsed": true
   },
   "outputs": [],
   "source": [
    "PyGerr_solv = abs(Esolv-fsolvanalitico_solv)/abs(fsolvanalitico_solv)\n",
    "figure(figsize=(3,2), dpi=80)\n",
    "loglog(N, PyGerr_solv, c='k', marker='o', mfc='w', ms=3, ls='', lw=0.5, label=\"E = 0.0\")\n",
    "loglog(N, 6./(N), c='k', marker='', mfc='w', ms=3, ls=':', lw=0.8, label=None)\n",
    "text(3e3, 0.25e-3,'1/N',fontsize=4,rotation=-8)\n",
    "ylabel('Error Esolv', fontsize=10)\n",
    "xlabel('N mesh',fontsize=10)\n",
    "subplots_adjust(left=0.25, bottom=0.25, right=0.96, top=0.96)\n",
    "axis([1000,20000,0.0000001, 1])\n",
    "legend(loc='lower right')\n",
    "savefig('Convergencia/Error_2EsferasCarga_Esolv_Ef0.0_k0.0001_bempp.pdf')\n",
    "clf()"
   ]
  },
  {
   "cell_type": "markdown",
   "metadata": {},
   "source": [
    "#### Efield = 0.8 y _k_ = 0.0001"
   ]
  },
  {
   "cell_type": "code",
   "execution_count": 10,
   "metadata": {},
   "outputs": [
    {
     "name": "stdout",
     "output_type": "stream",
     "text": [
      "p_solv:  1.05792654927\n",
      "p_surf:  1.04365306556\n",
      "E_solv_analitico: -1516.0437 Kcal/mol\n",
      "E_surf_analitico: -245171524.443 Kcal/mol\n"
     ]
    }
   ],
   "source": [
    "from numpy import *\n",
    "from pylab import *\n",
    "import os\n",
    "\n",
    "\n",
    "os.system('mkdir Convergencia/')\n",
    "\n",
    "Esolv = array([-1524.9289, -1520.3807, -1518.1961])\n",
    "Esurf = array([-244618049.1555, -244898316.1640, -245034273.0160])\n",
    "\n",
    "N=array([2348, 4744, 9414])\n",
    "\n",
    "fsolvanalitico_solv=-1516.0437\n",
    "fsolvanalitico_surf= -245171524.443\n",
    "\n",
    "r=2\n",
    "p_solv = log((Esolv[0] - Esolv[1])/(Esolv[1] - Esolv[2]))/log(r)\n",
    "print(\"p_solv: \", p_solv)\n",
    "p_surf = log((Esurf[0] - Esurf[1])/(Esurf[1] - Esurf[2]))/log(r)\n",
    "print(\"p_surf: \", p_surf)\n",
    "#fsolvanalitico = Esolv[2] + ((Esolv[2] - Esolv[1])/((r**p) - 1))\n",
    "print('E_solv_analitico:',fsolvanalitico_solv,'Kcal/mol')\n",
    "print('E_surf_analitico:',fsolvanalitico_surf,'Kcal/mol')"
   ]
  },
  {
   "cell_type": "code",
   "execution_count": 11,
   "metadata": {
    "collapsed": true
   },
   "outputs": [],
   "source": [
    "PyGerr_surf = abs(Esurf-fsolvanalitico_surf)/abs(fsolvanalitico_surf)\n",
    "figure(figsize=(3,2), dpi=80)\n",
    "loglog(N, PyGerr_surf, c='k', marker='o', mfc='w', ms=3, ls='', lw=0.5, label=\"E = 0.8\")\n",
    "loglog(N, 5./(N), c='k', marker='', mfc='w', ms=3, ls=':', lw=0.8, label=None)\n",
    "text(3e3, 0.25e-3,'1/N',fontsize=4,rotation=-8)\n",
    "ylabel('Error Esurf', fontsize=10)\n",
    "xlabel('N mesh',fontsize=10)\n",
    "subplots_adjust(left=0.25, bottom=0.25, right=0.96, top=0.96)\n",
    "axis([1000,20000,0.0000001, 1])\n",
    "legend(loc='lower right')\n",
    "savefig('Convergencia/Error_2EsferasCarga_Esurf_Ef0.8_k0.0001_bempp.pdf')\n",
    "clf()"
   ]
  },
  {
   "cell_type": "code",
   "execution_count": 12,
   "metadata": {
    "collapsed": true
   },
   "outputs": [],
   "source": [
    "PyGerr_solv = abs(Esolv-fsolvanalitico_solv)/abs(fsolvanalitico_solv)\n",
    "figure(figsize=(3,2), dpi=80)\n",
    "loglog(N, PyGerr_solv, c='k', marker='o', mfc='w', ms=3, ls='', lw=0.5, label=\"E = 0.8\")\n",
    "loglog(N, 12./(N), c='k', marker='', mfc='w', ms=3, ls=':', lw=0.8, label=None)\n",
    "text(3e3, 0.25e-3,'1/N',fontsize=4,rotation=-8)\n",
    "ylabel('Error Esolv', fontsize=10)\n",
    "xlabel('N mesh',fontsize=10)\n",
    "subplots_adjust(left=0.25, bottom=0.25, right=0.96, top=0.96)\n",
    "axis([1000,20000,0.0000001, 1])\n",
    "legend(loc='lower right')\n",
    "savefig('Convergencia/Error_2EsferasCarga_Esolv_Ef0.8_k0.0001_bempp.pdf')\n",
    "clf()"
   ]
  },
  {
   "cell_type": "code",
   "execution_count": null,
   "metadata": {
    "collapsed": true
   },
   "outputs": [],
   "source": []
  },
  {
   "cell_type": "code",
   "execution_count": null,
   "metadata": {
    "collapsed": true
   },
   "outputs": [],
   "source": []
  }
 ],
 "metadata": {
  "kernelspec": {
   "display_name": "Python 3",
   "language": "python",
   "name": "python3"
  },
  "language_info": {
   "codemirror_mode": {
    "name": "ipython",
    "version": 3
   },
   "file_extension": ".py",
   "mimetype": "text/x-python",
   "name": "python",
   "nbconvert_exporter": "python",
   "pygments_lexer": "ipython3",
   "version": "3.6.2"
  }
 },
 "nbformat": 4,
 "nbformat_minor": 2
}
