{
 "cells": [
  {
   "cell_type": "markdown",
   "metadata": {},
   "source": [
    "## Estudio de Convergencia: Calculos con Bempp"
   ]
  },
  {
   "cell_type": "markdown",
   "metadata": {},
   "source": [
    "### Esfera con Carga Electrica Puntual + Surf con Carga sometido a un Campo Electrico Externo"
   ]
  },
  {
   "cell_type": "markdown",
   "metadata": {},
   "source": [
    "#### Efield = 0.8"
   ]
  },
  {
   "cell_type": "code",
   "execution_count": 17,
   "metadata": {},
   "outputs": [
    {
     "name": "stdout",
     "output_type": "stream",
     "text": [
      "E_solv_extrapolado: -3691.5503 Kcal/mol\n"
     ]
    }
   ],
   "source": [
    "from numpy import *\n",
    "from pylab import *\n",
    "import os\n",
    "\n",
    "\n",
    "os.system('mkdir Convergencia/')\n",
    "#Esolv = array([-13.2819,-13.2640,-13.2549])\n",
    "Esolv = array([-3694.3727, -3693.0064, -3692.3135])\n",
    "Esurf = array([-287527235.8399, -287912883.2213, -288102715.9876])\n",
    "\n",
    "#N=array([512,2048,8192,32768])\n",
    "N=array([2348, 4744, 9414])\n",
    "#fsolvanalitico=-13.056635\n",
    "fsolvanalitico_solv=-3691.5503\n",
    "fsolvanalitico_surf= -288293971.072\n",
    "\n",
    "#r=4\n",
    "#p = log((Esolv[0] - Esolv[1])/(Esolv[1] - Esolv[2]))/log(r)\n",
    "#print(\"p: \", p)\n",
    "#fsolvanalitico = Esolv[2] + ((Esolv[2] - Esolv[1])/((r**p) - 1))\n",
    "print('E_solv_extrapolado:',fsolvanalitico,'Kcal/mol')"
   ]
  },
  {
   "cell_type": "code",
   "execution_count": 22,
   "metadata": {},
   "outputs": [],
   "source": [
    "PyGerr_surf = abs(Esurf-fsolvanalitico_surf)/abs(fsolvanalitico_surf)\n",
    "figure(figsize=(3,2), dpi=80)\n",
    "loglog(N, PyGerr_surf, c='k', marker='o', mfc='w', ms=3, ls='', lw=0.5, label=\"E = 0.8\")\n",
    "loglog(N, 5./(N), c='k', marker='', mfc='w', ms=3, ls=':', lw=0.8, label=None)\n",
    "text(3e3, 0.25e-3,'1/N',fontsize=4,rotation=-8)\n",
    "ylabel('Error', fontsize=10)\n",
    "xlabel('N mesh',fontsize=10)\n",
    "subplots_adjust(left=0.25, bottom=0.25, right=0.96, top=0.96)\n",
    "axis([1000,20000,0.0000001, 1])\n",
    "legend(loc='lower right')\n",
    "savefig('Convergencia/Error_2EsferasCarga_Esurf_Ef0.8_bempp.pdf')\n",
    "clf()"
   ]
  },
  {
   "cell_type": "code",
   "execution_count": 23,
   "metadata": {},
   "outputs": [
    {
     "name": "stdout",
     "output_type": "stream",
     "text": [
      "[ 0.00076456  0.00039444  0.00020674]\n"
     ]
    }
   ],
   "source": [
    "PyGerr_solv = abs(Esolv-fsolvanalitico_solv)/abs(fsolvanalitico_solv)\n",
    "figure(figsize=(3,2), dpi=80)\n",
    "print(PyGerr_solv)\n",
    "loglog(N, PyGerr_solv, c='k', marker='o', mfc='w', ms=3, ls='', lw=0.5, label=\"E = 0.8\")\n",
    "loglog(N, 2./(N), c='k', marker='', mfc='w', ms=3, ls=':', lw=0.8, label=None)\n",
    "text(3e3, 0.25e-3,'1/N',fontsize=4,rotation=-8)\n",
    "ylabel('Error', fontsize=10)\n",
    "xlabel('N mesh',fontsize=10)\n",
    "subplots_adjust(left=0.25, bottom=0.25, right=0.96, top=0.96)\n",
    "axis([1000,20000,0.0000001, 1])\n",
    "legend(loc='lower right')\n",
    "savefig('Convergencia/Error_2EsferasCarga_Esolv_Ef0.8_bempp.pdf')\n",
    "clf()"
   ]
  },
  {
   "cell_type": "code",
   "execution_count": null,
   "metadata": {
    "collapsed": true
   },
   "outputs": [],
   "source": []
  }
 ],
 "metadata": {
  "kernelspec": {
   "display_name": "Python 3",
   "language": "python",
   "name": "python3"
  },
  "language_info": {
   "codemirror_mode": {
    "name": "ipython",
    "version": 3
   },
   "file_extension": ".py",
   "mimetype": "text/x-python",
   "name": "python",
   "nbconvert_exporter": "python",
   "pygments_lexer": "ipython3",
   "version": "3.6.2"
  }
 },
 "nbformat": 4,
 "nbformat_minor": 2
}
