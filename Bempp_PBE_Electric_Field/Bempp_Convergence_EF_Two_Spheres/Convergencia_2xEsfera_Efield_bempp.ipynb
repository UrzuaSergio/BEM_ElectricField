{
 "cells": [
  {
   "cell_type": "markdown",
   "metadata": {},
   "source": [
    "## Estudio de Convergencia: Calculos con Bempp"
   ]
  },
  {
   "cell_type": "markdown",
   "metadata": {},
   "source": [
    "### Esfera con Carga Electrica Puntual + Surf con Carga sometido a un Campo Electrico Externo"
   ]
  },
  {
   "cell_type": "markdown",
   "metadata": {},
   "source": [
    "#### Efield = 0.8"
   ]
  },
  {
   "cell_type": "code",
   "execution_count": 61,
   "metadata": {},
   "outputs": [
    {
     "name": "stdout",
     "output_type": "stream",
     "text": [
      "E_solv_extrapolado: -3691.5503 Kcal/mol\n"
     ]
    }
   ],
   "source": [
    "from numpy import *\n",
    "from pylab import *\n",
    "import os\n",
    "\n",
    "\n",
    "os.system('mkdir Convergencia/')\n",
    "#Esolv = array([-13.2819,-13.2640,-13.2549])\n",
    "Esolv = array([-3699.5573,-3693.5173,-3692.0410]) #esos valores serian ideal con DP1 jeje\n",
    "N=array([2048,8192,32768])\n",
    "\n",
    "#fsolvanalitico=-13.056635\n",
    "fsolvanalitico=-3691.5503\n",
    "print('E_solv_extrapolado:',fsolvanalitico,'Kcal/mol')"
   ]
  },
  {
   "cell_type": "code",
   "execution_count": 64,
   "metadata": {},
   "outputs": [
    {
     "name": "stderr",
     "output_type": "stream",
     "text": [
      "C:\\Users\\Sergio\\AppData\\Local\\Continuum\\anaconda3\\lib\\site-packages\\matplotlib\\pyplot.py:524: RuntimeWarning: More than 20 figures have been opened. Figures created through the pyplot interface (`matplotlib.pyplot.figure`) are retained until explicitly closed and may consume too much memory. (To control this warning, see the rcParam `figure.max_open_warning`).\n",
      "  max_open_warning, RuntimeWarning)\n"
     ]
    },
    {
     "name": "stdout",
     "output_type": "stream",
     "text": [
      "[ 0.00216901  0.00053284  0.00013293]\n",
      "4.07066598882 4.00855920114 4.0\n"
     ]
    }
   ],
   "source": [
    "PyGerr = abs(Esolv-fsolvanalitico)/abs(fsolvanalitico)\n",
    "figure(figsize=(3,2), dpi=80)\n",
    "print(PyGerr)\n",
    "loglog(N, PyGerr, c='k', marker='o', mfc='w', ms=3, ls='', lw=0.5, label=\"E = 2.4\")\n",
    "loglog(N, 3.5/(N), c='k', marker='', mfc='w', ms=3, ls=':', lw=0.8, label=None)\n",
    "text(3e3, 0.25e-3,'1/N',fontsize=4,rotation=-8)\n",
    "ylabel('Error', fontsize=10)\n",
    "xlabel('N mesh',fontsize=10)\n",
    "subplots_adjust(left=0.25, bottom=0.25, right=0.96, top=0.96)\n",
    "axis([100,50000,0.0000001, 1])\n",
    "legend(loc='lower right')\n",
    "savefig('Convergencia/Error_2EsferasCarga_Ef0.8_bempp.pdf')\n",
    "clf()\n",
    "\n",
    "print(PyGerr[0]/PyGerr[1], PyGerr[1]/PyGerr[2], N[1]/N[0])"
   ]
  },
  {
   "cell_type": "code",
   "execution_count": null,
   "metadata": {
    "collapsed": true
   },
   "outputs": [],
   "source": []
  }
 ],
 "metadata": {
  "kernelspec": {
   "display_name": "Python 3",
   "language": "python",
   "name": "python3"
  },
  "language_info": {
   "codemirror_mode": {
    "name": "ipython",
    "version": 3
   },
   "file_extension": ".py",
   "mimetype": "text/x-python",
   "name": "python",
   "nbconvert_exporter": "python",
   "pygments_lexer": "ipython3",
   "version": "3.6.2"
  }
 },
 "nbformat": 4,
 "nbformat_minor": 2
}
