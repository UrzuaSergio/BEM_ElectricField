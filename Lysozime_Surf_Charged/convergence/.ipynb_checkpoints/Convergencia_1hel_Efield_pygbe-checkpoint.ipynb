{
 "cells": [
  {
   "cell_type": "markdown",
   "metadata": {},
   "source": [
    "## Estudio de Convergencia: Calculos con PyGBe"
   ]
  },
  {
   "cell_type": "markdown",
   "metadata": {},
   "source": [
    "### Lisozima 1hel sometida a un Campo Electrico Externo"
   ]
  },
  {
   "cell_type": "markdown",
   "metadata": {},
   "source": [
    "#### Parametros PyGBe\n",
    "\n",
    "\tUse GPU                 : 0\n",
    "\tP                       : 4\n",
    "\tthreshold               : 0.50\n",
    "\ttheta                   : 0.50\n",
    "\tNCRIT                   : 500\n",
    "\tCUDA block size         : 128\n",
    "\tGauss points per element: 2\n",
    "\tGauss points near singlr: 19\n",
    "\t1D Gauss points per side: 9\n",
    "\tGMRES tolerance         : 1e-05\n",
    "\tGMRES max iterations    : 1000\n",
    "\tGMRES restart iteration : 200"
   ]
  },
  {
   "cell_type": "markdown",
   "metadata": {},
   "source": [
    "#### Efield = 5.5264e-5 y _k_ = 0.086"
   ]
  },
  {
   "cell_type": "code",
   "execution_count": 18,
   "metadata": {},
   "outputs": [
    {
     "name": "stdout",
     "output_type": "stream",
     "text": [
      "p_solv:  1.18915912836\n",
      "E_solv_analitico: -3132.377552 Kcal/mol\n"
     ]
    }
   ],
   "source": [
    "from numpy import *\n",
    "from pylab import *\n",
    "import os\n",
    "\n",
    "Esolv = array([-2511.3274, -2634.0324, -2913.8241]) #kcal/mol\n",
    "N=array([10428, 20200, 43244])  #N° Elementos\n",
    "\n",
    "r=2.0\n",
    "p = log((Esolv[2] - Esolv[1])/(Esolv[1] - Esolv[0]))/log(r)\n",
    "print(\"p_solv: \", p)\n",
    "fsolvanalitico = Esolv[2] + ((Esolv[2] - Esolv[1])/((r**p) - 1))\n",
    "print('E_solv_analitico:',fsolvanalitico,'Kcal/mol')"
   ]
  },
  {
   "cell_type": "code",
   "execution_count": 31,
   "metadata": {},
   "outputs": [
    {
     "name": "stdout",
     "output_type": "stream",
     "text": [
      "[ 0.19826797  0.15909485  0.06977238]\n"
     ]
    },
    {
     "name": "stderr",
     "output_type": "stream",
     "text": [
      "C:\\Users\\Sergio\\AppData\\Local\\Continuum\\anaconda3\\lib\\site-packages\\matplotlib\\pyplot.py:524: RuntimeWarning: More than 20 figures have been opened. Figures created through the pyplot interface (`matplotlib.pyplot.figure`) are retained until explicitly closed and may consume too much memory. (To control this warning, see the rcParam `figure.max_open_warning`).\n",
      "  max_open_warning, RuntimeWarning)\n"
     ]
    }
   ],
   "source": [
    "PyGerr_solv = abs(Esolv-fsolvanalitico)/abs(fsolvanalitico)\n",
    "print(PyGerr_solv)\n",
    "figure(figsize=(3,2), dpi=80)\n",
    "loglog(N, PyGerr_solv, c='k', marker='o', mfc='w', ms=3, ls='', lw=0.5, label=\"$E_{0} = 5.5264e-05$\")\n",
    "loglog(N, 3000./(N), c='k', marker='', mfc='w', ms=3, ls=':', lw=0.8, label=None)\n",
    "text(3e3, 0.25e-3,'1/N',fontsize=4,rotation=-8)\n",
    "ylabel('Error Esolv', fontsize=10)\n",
    "xlabel('N mesh',fontsize=10)\n",
    "subplots_adjust(left=0.25, bottom=0.25, right=0.96, top=0.96)\n",
    "axis([1000,100000,0.01, 1])\n",
    "legend(loc='lower right', fontsize = '6')\n",
    "savefig('Error_1hel_Esolv_Ef0.0_k0.086.pdf')\n",
    "clf()"
   ]
  },
  {
   "cell_type": "markdown",
   "metadata": {},
   "source": [
    "#### Efield = 0.8 y _k_ = 0.125"
   ]
  },
  {
   "cell_type": "code",
   "execution_count": null,
   "metadata": {
    "collapsed": true
   },
   "outputs": [],
   "source": []
  },
  {
   "cell_type": "code",
   "execution_count": null,
   "metadata": {
    "collapsed": true
   },
   "outputs": [],
   "source": []
  },
  {
   "cell_type": "markdown",
   "metadata": {},
   "source": [
    "#### Efield = 1.6 y _k_ = 0.125"
   ]
  },
  {
   "cell_type": "code",
   "execution_count": null,
   "metadata": {
    "collapsed": true
   },
   "outputs": [],
   "source": []
  },
  {
   "cell_type": "code",
   "execution_count": null,
   "metadata": {
    "collapsed": true
   },
   "outputs": [],
   "source": []
  },
  {
   "cell_type": "markdown",
   "metadata": {},
   "source": [
    "#### Efield = 2.4 y _k_ = 0.125"
   ]
  },
  {
   "cell_type": "code",
   "execution_count": null,
   "metadata": {
    "collapsed": true
   },
   "outputs": [],
   "source": []
  },
  {
   "cell_type": "code",
   "execution_count": null,
   "metadata": {
    "collapsed": true
   },
   "outputs": [],
   "source": []
  },
  {
   "cell_type": "markdown",
   "metadata": {},
   "source": [
    "#### Efield = 0. y _k_ = 1e-12"
   ]
  },
  {
   "cell_type": "code",
   "execution_count": null,
   "metadata": {
    "collapsed": true
   },
   "outputs": [],
   "source": []
  },
  {
   "cell_type": "code",
   "execution_count": null,
   "metadata": {
    "collapsed": true
   },
   "outputs": [],
   "source": []
  },
  {
   "cell_type": "markdown",
   "metadata": {},
   "source": [
    "#### Efield = 0.8 y _k_ = 1e-12"
   ]
  },
  {
   "cell_type": "code",
   "execution_count": null,
   "metadata": {
    "collapsed": true
   },
   "outputs": [],
   "source": []
  },
  {
   "cell_type": "code",
   "execution_count": null,
   "metadata": {
    "collapsed": true
   },
   "outputs": [],
   "source": []
  },
  {
   "cell_type": "markdown",
   "metadata": {
    "collapsed": true
   },
   "source": [
    "#### Efield = 1.6 y _k_ = 1e-12"
   ]
  },
  {
   "cell_type": "code",
   "execution_count": null,
   "metadata": {
    "collapsed": true
   },
   "outputs": [],
   "source": []
  },
  {
   "cell_type": "code",
   "execution_count": null,
   "metadata": {
    "collapsed": true
   },
   "outputs": [],
   "source": []
  },
  {
   "cell_type": "markdown",
   "metadata": {},
   "source": [
    "#### Efield = 2.4 y _k_ = 1e-12"
   ]
  },
  {
   "cell_type": "code",
   "execution_count": null,
   "metadata": {
    "collapsed": true
   },
   "outputs": [],
   "source": []
  },
  {
   "cell_type": "code",
   "execution_count": null,
   "metadata": {
    "collapsed": true
   },
   "outputs": [],
   "source": []
  },
  {
   "cell_type": "code",
   "execution_count": null,
   "metadata": {
    "collapsed": true
   },
   "outputs": [],
   "source": []
  }
 ],
 "metadata": {
  "kernelspec": {
   "display_name": "Python 3",
   "language": "python",
   "name": "python3"
  },
  "language_info": {
   "codemirror_mode": {
    "name": "ipython",
    "version": 3
   },
   "file_extension": ".py",
   "mimetype": "text/x-python",
   "name": "python",
   "nbconvert_exporter": "python",
   "pygments_lexer": "ipython3",
   "version": "3.6.2"
  }
 },
 "nbformat": 4,
 "nbformat_minor": 2
}
