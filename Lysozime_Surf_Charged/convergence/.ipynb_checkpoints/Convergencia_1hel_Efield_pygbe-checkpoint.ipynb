{
 "cells": [
  {
   "cell_type": "markdown",
   "metadata": {},
   "source": [
    "## Estudio de Convergencia: Calculos con PyGBe"
   ]
  },
  {
   "cell_type": "markdown",
   "metadata": {},
   "source": [
    "### Lisozima 1hel sometida a un Campo Electrico Externo"
   ]
  },
  {
   "cell_type": "markdown",
   "metadata": {},
   "source": [
    "#### Parametros PyGBe\n",
    "\n",
    "\tUse GPU                 : 1\n",
    "\tP                       : 6\n",
    "\tthreshold               : 0.50\n",
    "\ttheta                   : 0.50\n",
    "\tNCRIT                   : 500\n",
    "\tCUDA block size         : 128\n",
    "\tGauss points per element: 4\n",
    "\tGauss points near singlr: 19\n",
    "\t1D Gauss points per side: 9\n",
    "\tGMRES tolerance         : 1e-05\n",
    "\tGMRES max iterations    : 1000\n",
    "\tGMRES restart iteration : 200"
   ]
  },
  {
   "cell_type": "markdown",
   "metadata": {},
   "source": [
    "### NanoShaper: \n",
    "#### Efield = 5.5264e-5 y _k_ = 0.086"
   ]
  },
  {
   "cell_type": "code",
   "execution_count": 7,
   "metadata": {},
   "outputs": [
    {
     "name": "stdout",
     "output_type": "stream",
     "text": [
      "p_solv:  1.16139490601\n",
      "E_solv_extrapolado: -573.819960804 Kcal/mol\n"
     ]
    }
   ],
   "source": [
    "from numpy import *\n",
    "from pylab import *\n",
    "import os\n",
    "\n",
    "#Calculo de Aproximacion Sol. Analitica por medio de Extrapolacion de Richardson:\n",
    "#Esolv = array([-714.3092, -630.0634, -598.2773, -584.9413]) #kcal/mol con campo EF:5.5264e-5 sin trimesh\n",
    "Esolv = array([-713.8645, -629.2082, -597.1322, -583.6318]) #kcal/mol con campo EF:5.5264e-5 con trimesh\n",
    "N=array([10328, 20012, 42844, 90260])  #N° Elementos\n",
    "\n",
    "r= N[3]/N[2]\n",
    "p = log((Esolv[2] - Esolv[1])/(Esolv[3] - Esolv[2]))/log(r)\n",
    "print(\"p_solv: \", p)\n",
    "fsolvanalitico = Esolv[3] + ((Esolv[3] - Esolv[2])/((r**p) - 1))\n",
    "print('E_solv_extrapolado:',fsolvanalitico,'Kcal/mol')"
   ]
  },
  {
   "cell_type": "code",
   "execution_count": 2,
   "metadata": {},
   "outputs": [
    {
     "name": "stdout",
     "output_type": "stream",
     "text": [
      "[ 24.40565835   9.65254661   4.06263999   1.70991598]\n"
     ]
    }
   ],
   "source": [
    "#Calculo de Errores Relativos en Energia de Solvatacion:\n",
    "PyGerr_solv = abs(Esolv-fsolvanalitico)/abs(fsolvanalitico)\n",
    "print(PyGerr_solv*100)\n",
    "asympt_solv = N[-1]*PyGerr_solv[-1]/N\n",
    "\n",
    "figure(figsize=(3,2), dpi=80)\n",
    "loglog(N, PyGerr_solv, c=\"k\", marker=\"o\", mfc=\"w\", ms=3, ls=\"\", lw=0.5, label=\"$E_{solv}$\")\n",
    "loglog(N, asympt_solv, c=\"k\", marker=\"\", mfc=\"w\", ms=3, ls=\":\", lw=0.8, label=None)\n",
    "text(1.6e4, 6e-2,\"1/N\",fontsize=4,rotation=-8)\n",
    "text(0.5e5,0.5,\"$E_{0}$ = 5.5254e-5 e/$\\epsilon_{0}\\mathrm{\\AA}^{2}$\",fontsize = 5)\n",
    "ylabel('Error Esolv', fontsize=10)\n",
    "xlabel('$N^{\\circ}$ Elements',fontsize=10)\n",
    "subplots_adjust(left=0.25, bottom=0.25, right=0.96, top=0.96)\n",
    "axis([1000,1000000,0.001, 1])\n",
    "legend(loc='lower right', fontsize = '6')\n",
    "savefig('Error_1hel_Esolv_Ef5.5264e-5_k0.086_nanoshaper.pdf')\n",
    "clf()"
   ]
  },
  {
   "cell_type": "markdown",
   "metadata": {},
   "source": [
    "#### Efield = 1e-12 y _k_ = 0.086"
   ]
  },
  {
   "cell_type": "code",
   "execution_count": 3,
   "metadata": {},
   "outputs": [
    {
     "name": "stdout",
     "output_type": "stream",
     "text": [
      "p_solv:  1.16228574473\n",
      "E_solv_extrapolado: -561.227564945 Kcal/mol\n"
     ]
    }
   ],
   "source": [
    "#Calculo de Aproximacion Sol. Analitica por medio de Extrapolacion de Richardson:\n",
    "Esolv = array([-701.2304, -616.6074, -584.5208, -571.0249]) #kcal/mol con campo EF:5.5264e-5 con trimesh\n",
    "N=array([10328, 20012, 42844, 90260])  #N° Elementos\n",
    "\n",
    "r= N[3]/N[2]\n",
    "p = log((Esolv[2] - Esolv[1])/(Esolv[3] - Esolv[2]))/log(r)\n",
    "print(\"p_solv: \", p)\n",
    "fsolvanalitico = Esolv[3] + ((Esolv[3] - Esolv[2])/((r**p) - 1))\n",
    "print('E_solv_extrapolado:',fsolvanalitico,'Kcal/mol')"
   ]
  },
  {
   "cell_type": "code",
   "execution_count": 4,
   "metadata": {},
   "outputs": [
    {
     "name": "stdout",
     "output_type": "stream",
     "text": [
      "[ 24.94582301   9.86762563   4.15040823   1.74569741]\n"
     ]
    }
   ],
   "source": [
    "#Calculo de Errores Relativos en Energia de Solvatacion:\n",
    "PyGerr_solv = abs(Esolv-fsolvanalitico)/abs(fsolvanalitico)\n",
    "print(PyGerr_solv*100)\n",
    "asympt_solv = N[-1]*PyGerr_solv[-1]/N\n",
    "\n",
    "figure(figsize=(3,2), dpi=80)\n",
    "loglog(N, PyGerr_solv, c=\"k\", marker=\"o\", mfc=\"w\", ms=3, ls=\"\", lw=0.5, label=\"$E_{solv}$\")\n",
    "loglog(N, asympt_solv, c=\"k\", marker=\"\", mfc=\"w\", ms=3, ls=\":\", lw=0.8, label=None)\n",
    "text(1.6e4, 6e-2,\"1/N\",fontsize=4,rotation=-8)\n",
    "text(0.8e5,0.5,\"$E_{0}$ = 1e-12 e/$\\epsilon_{0}\\mathrm{\\AA}^{2}$\",fontsize = 5)\n",
    "ylabel('Error Esolv', fontsize=10)\n",
    "xlabel('$N^{\\circ}$ Elements',fontsize=10)\n",
    "subplots_adjust(left=0.25, bottom=0.25, right=0.96, top=0.96)\n",
    "axis([1000,1000000,0.001, 1])\n",
    "legend(loc='lower right', fontsize = '6')\n",
    "savefig('Error_1hel_Esolv_Ef1e-12_k0.086_nanoshaper.pdf')\n",
    "clf()"
   ]
  },
  {
   "cell_type": "markdown",
   "metadata": {},
   "source": [
    "### Lisozima 1hel cerca de Surf. Cargada C= -0.04 C/m2 sometida a un Campo Electrico Externo"
   ]
  },
  {
   "cell_type": "markdown",
   "metadata": {},
   "source": [
    "#### Parametros PyGBe\n",
    "\n",
    "\tUse GPU                 : 1\n",
    "\tP                       : 4\n",
    "\tthreshold               : 0.50\n",
    "\ttheta                   : 0.50\n",
    "\tNCRIT                   : 500\n",
    "\tCUDA block size         : 128\n",
    "\tGauss points per element: 2\n",
    "\tGauss points near singlr: 19\n",
    "\t1D Gauss points per side: 9\n",
    "\tGMRES tolerance         : 1e-05\n",
    "\tGMRES max iterations    : 1000\n",
    "\tGMRES restart iteration : 200"
   ]
  },
  {
   "cell_type": "markdown",
   "metadata": {},
   "source": [
    "### NanoShaper\n",
    "#### Efield = 0.0 y _k_ = 0.086"
   ]
  },
  {
   "cell_type": "code",
   "execution_count": 12,
   "metadata": {},
   "outputs": [
    {
     "name": "stdout",
     "output_type": "stream",
     "text": [
      "p_solv:  1.23962256735\n",
      "p_surf:  -0.41175938526\n",
      "E_solv_analitico: -561.554257322 Kcal/mol\n",
      "E_surf_analitico: 15.2616275126 Kcal/mol\n"
     ]
    }
   ],
   "source": [
    "Esolv = array([-702.3255, -617.7401, -585.5918, -572.1596]) #kcal/mol sin campo\n",
    "Esurf = array([15.2199, 15.2321, 15.2486, 15.2538]) #kcal/mol sin campo\n",
    "NN=array([25028, 48824, 101644, 205508])#N° Elementos\n",
    "\n",
    "r= NN[3]/NN[2]\n",
    "r_surf = NN[2]/NN[1]\n",
    "p_solv = log((Esolv[2] - Esolv[1])/(Esolv[3] - Esolv[2]))/log(r)\n",
    "p_surf = log((Esurf[1] - Esurf[0])/(Esurf[2] - Esurf[1]))/log(r_surf)\n",
    "print(\"p_solv: \", p_solv)\n",
    "print(\"p_surf: \", p_surf)\n",
    "\n",
    "fsolvanalitico = Esolv[3] + ((Esolv[3] - Esolv[2])/((r**p) - 1))\n",
    "fsurfanalitico = Esurf[2] + ((Esurf[2] - Esurf[1])/((r**p) - 1))\n",
    "print('E_solv_analitico:',fsolvanalitico,'Kcal/mol')\n",
    "print('E_surf_analitico:',fsurfanalitico,'Kcal/mol')"
   ]
  },
  {
   "cell_type": "code",
   "execution_count": 13,
   "metadata": {},
   "outputs": [
    {
     "name": "stdout",
     "output_type": "stream",
     "text": [
      "[ 25.06814628  10.00541656   4.28053788   1.88856954]\n",
      "[ 0.27341457  0.19347552  0.08536123  0.05128885]\n"
     ]
    }
   ],
   "source": [
    "PyGerr_solv = abs(Esolv-fsolvanalitico)/abs(fsolvanalitico)\n",
    "print(PyGerr_solv*100)\n",
    "PyGerr_surf = abs(Esurf-fsurfanalitico)/abs(fsurfanalitico)\n",
    "print(PyGerr_surf*100)\n",
    "asympt_solv = NN[-1]*PyGerr_solv[-1]/NN\n",
    "asympt_surf = NN[-1]*PyGerr_surf[-1]/NN\n",
    "\n",
    "figure(figsize=(3,2), dpi=80)\n",
    "loglog(NN, PyGerr_solv, c='k', marker='o', mfc='w', ms=3, ls='', lw=0.5, label=\"$E_{solv}$\")\n",
    "loglog(NN, asympt_solv, c='k', marker='', mfc='w', ms=3, ls=':', lw=0.8, label=None)\n",
    "loglog(NN, PyGerr_surf, c='k', marker='^', mfc='w', ms=3, ls='', lw=0.5, label=\"$E_{surf}$\")\n",
    "loglog(NN, asympt_surf, c='k', marker='', mfc='w', ms=3, ls=':', lw=0.8, label=None)\n",
    "text(1.6e4, 6e-2,\"1/N\",fontsize=4,rotation=-8)\n",
    "text(0.8e5,0.5,\"$E_{0}$ = 1e-12 e/$\\epsilon_{0}\\mathrm{\\AA}^{2}$\",fontsize = 5)\n",
    "ylabel('Error Esolv', fontsize=10)\n",
    "xlabel('$N^{\\circ}$ Elements',fontsize=10)\n",
    "subplots_adjust(left=0.25, bottom=0.25, right=0.96, top=0.96)\n",
    "axis([10000,1000000,0.0001, 1])\n",
    "legend(loc='lower right', fontsize = '6')\n",
    "savefig('Error_1hel-sensor_Esolv_Ef0.0_k0.086_nanoshaper.pdf')\n",
    "clf()"
   ]
  },
  {
   "cell_type": "code",
   "execution_count": null,
   "metadata": {
    "collapsed": true
   },
   "outputs": [],
   "source": []
  },
  {
   "cell_type": "markdown",
   "metadata": {},
   "source": [
    "#### Efield = 5.5264e-5 y _k_ = 0.086"
   ]
  },
  {
   "cell_type": "code",
   "execution_count": 20,
   "metadata": {},
   "outputs": [
    {
     "name": "stdout",
     "output_type": "stream",
     "text": [
      "p_solv:  1.23706048622\n",
      "p_surf:  2.21756664128\n",
      "E_solv_analitico: -581.67227534 Kcal/mol\n",
      "E_surf_analitico: -18.7400557448 Kcal/mol\n"
     ]
    }
   ],
   "source": [
    "Esolv = array([-722.2449, -637.7406, -605.7249, -592.3012]) #kcal/mol con campo EF:5.5264e-5\n",
    "Esurf = array([-18.7826, -18.7741, -18.7551, -18.7511]) #kcal/mol con campo EF:5.5264e-5\n",
    "NN=array([25128, 49012, 102044, 206034])#N° Elementos\n",
    "\n",
    "r= NN[3]/NN[2]\n",
    "r_surf = NN[3]/NN[2]\n",
    "p_solv = log((Esolv[2] - Esolv[1])/(Esolv[3] - Esolv[2]))/log(r)\n",
    "p_surf = log((Esurf[2] - Esurf[1])/(Esurf[3] - Esurf[2]))/log(r_surf)\n",
    "print(\"p_solv: \", p_solv)\n",
    "print(\"p_surf: \", p_surf)\n",
    "fsolvanalitico = Esolv[3] + ((Esolv[3] - Esolv[2])/((r**p) - 1))\n",
    "fsurfanalitico = Esurf[2] + ((Esurf[2] - Esurf[1])/((r**p) - 1))\n",
    "print('E_solv_analitico:',fsolvanalitico,'Kcal/mol')\n",
    "print('E_surf_analitico:',fsurfanalitico,'Kcal/mol')"
   ]
  },
  {
   "cell_type": "code",
   "execution_count": 21,
   "metadata": {},
   "outputs": [
    {
     "name": "stdout",
     "output_type": "stream",
     "text": [
      "[ 24.16698038   9.63916058   4.13508185   1.82730467]\n",
      "[ 0.2270231   0.18166571  0.0802786   0.05893395]\n"
     ]
    }
   ],
   "source": [
    "PyGerr_solv = abs(Esolv-fsolvanalitico)/abs(fsolvanalitico)\n",
    "print(PyGerr_solv*100)\n",
    "PyGerr_surf = abs(Esurf-fsurfanalitico)/abs(fsurfanalitico)\n",
    "print(PyGerr_surf*100)\n",
    "asympt_solv = NN[-1]*PyGerr_solv[-1]/NN\n",
    "asympt_surf = NN[-2]*PyGerr_surf[-2]/NN\n",
    "\n",
    "figure(figsize=(3,2), dpi=80)\n",
    "loglog(NN, PyGerr_solv, c='k', marker='o', mfc='w', ms=3, ls='', lw=0.5, label=\"$E_{solv}$\")\n",
    "loglog(NN, asympt_solv, c='k', marker='', mfc='w', ms=3, ls=':', lw=0.8, label=None)\n",
    "loglog(NN, PyGerr_surf, c='k', marker='^', mfc='w', ms=3, ls='', lw=0.5, label=\"$E_{surf}$\")\n",
    "loglog(NN, asympt_surf, c='k', marker='', mfc='w', ms=3, ls=':', lw=0.8, label=None)\n",
    "ylabel('error relativo', fontsize=10)\n",
    "xlabel('N mesh',fontsize=10)\n",
    "text(1.6e4, 6e-2,\"1/N\",fontsize=4,rotation=-8)\n",
    "text(0.8e5,0.5,\"$E_{0}$ = 1e-12 e/$\\epsilon_{0}\\mathrm{\\AA}^{2}$\",fontsize = 5)\n",
    "subplots_adjust(left=0.25, bottom=0.25, right=0.92, top=0.92)\n",
    "axis([10000,1000000,0.000001, 1])\n",
    "legend(loc='lower right', fontsize = '6')\n",
    "savefig('Error_1hel-sensor_Esolv_Ef5.5264e-5_k0.086_nanoshaper.pdf')\n",
    "clf()"
   ]
  },
  {
   "cell_type": "markdown",
   "metadata": {},
   "source": [
    "#### Otra forma de extrapolacion"
   ]
  },
  {
   "cell_type": "code",
   "execution_count": 50,
   "metadata": {
    "collapsed": true
   },
   "outputs": [],
   "source": [
    "#Esolv = array([-722.6692, -638.5672, -606.8794, -593.6063]) #kcal/mol con campo EF:5.5264e-5\n",
    "#Esurf = array([-18.7799, -18.7691, -18.7498, -18.7513]) #kcal/mol con campo EF:5.5264e-5\n",
    "#Esurf = array([-16.87029,-16.87102,-16.87139, -16.87156]) #con campo sensor aislado\n",
    "#Esolv = array([-1037.3965, -722.6692, -638.5672, -606.8794]) #kcal/mol con campo EF:5.5264e-5\n",
    "#Esurf = array([-18.7192, -18.7799, -18.7691, -18.7498]) #kcal/mol con campo EF:5.5264e-5\n",
    "#NN=array([25128, 49012, 102044, 206034])#N° Elementos\n",
    "#NN=array([12864, 25128, 49012, 102044])#N° Elementos\n",
    "#Esolv_extra = (Esolv[-3]*Esolv[-1]-Esolv[-2]*Esolv[-2])/(Esolv[-1]-2*Esolv[-2]+Esolv[-3])\n",
    "#Esurf_extra = (Esurf[-1]*Esurf[-3]-Esurf[-2]*Esurf[-2])/(Esurf[-1]-2*Esurf[-2]+Esurf[-3])\n",
    "#Esolv_error = abs(Esolv-Esolv_extra)/abs(Esolv_extra)\n",
    "#Esurf_error = abs(Esurf-fsurfanalitico)/abs(fsurfanalitico)\n",
    "#asymp_solv = NN[-2]*Esolv_error[-2]/NN\n",
    "#asymp_surf = NN[-2]*Esurf_error[-2]/NN"
   ]
  },
  {
   "cell_type": "code",
   "execution_count": 51,
   "metadata": {
    "collapsed": true
   },
   "outputs": [],
   "source": [
    "#print(Esolv_extra)\n",
    "#print(Esurf_extra)\n",
    "#print(Esolv_error)\n",
    "#print(Esurf_error)\n",
    "#print(asymp_solv)\n",
    "#print(asymp_surf)"
   ]
  },
  {
   "cell_type": "code",
   "execution_count": 52,
   "metadata": {
    "collapsed": true
   },
   "outputs": [],
   "source": [
    "#figure(figsize=(3,2), dpi=80)\n",
    "#loglog(NN, Esolv_error, c='k', marker='o', mfc='w', ms=3, ls='', lw=0.5, label=\"$E_{solv}$\")\n",
    "#loglog(NN, asymp_solv, c='k', marker='', mfc='w', ms=3, ls=':', lw=0.8, label=None)\n",
    "#loglog(NN, Esurf_error, c='k', marker='^', mfc='w', ms=3, ls='', lw=0.5, label=\"$E_{surf}$\")\n",
    "#loglog(NN, asymp_surf, c='k', marker='', mfc='w', ms=3, ls=':', lw=0.8, label=None)\n",
    "#text(3e3, 0.25e-3,'1/N',fontsize=4,rotation=-8)\n",
    "#ylabel('error relativo', fontsize=10)\n",
    "#xlabel('N mesh',fontsize=10)\n",
    "#subplots_adjust(left=0.25, bottom=0.25, right=0.92, top=0.92)\n",
    "#axis([10000,1000000,0.000001, 1])\n",
    "#legend(loc='lower right', fontsize = '6')\n",
    "#savefig('Error_1hel-sensor_Esolv_Ef5.5264e-5_k0.086.pdf')\n",
    "#savefig('Error_test.pdf')\n",
    "#clf()"
   ]
  },
  {
   "cell_type": "code",
   "execution_count": null,
   "metadata": {
    "collapsed": true
   },
   "outputs": [],
   "source": []
  },
  {
   "cell_type": "code",
   "execution_count": null,
   "metadata": {
    "collapsed": true
   },
   "outputs": [],
   "source": []
  },
  {
   "cell_type": "markdown",
   "metadata": {},
   "source": [
    "### Lisozima 1hel sometida a un Campo Electrico Externo"
   ]
  },
  {
   "cell_type": "markdown",
   "metadata": {},
   "source": [
    "#### Parametros PyGBe\n",
    "\n",
    "\tUse GPU                 : 1\n",
    "\tP                       : 6\n",
    "\tthreshold               : 0.50\n",
    "\ttheta                   : 0.50\n",
    "\tNCRIT                   : 500\n",
    "\tCUDA block size         : 128\n",
    "\tGauss points per element: 4\n",
    "\tGauss points near singlr: 19\n",
    "\t1D Gauss points per side: 9\n",
    "\tGMRES tolerance         : 1e-05\n",
    "\tGMRES max iterations    : 1000\n",
    "\tGMRES restart iteration : 200"
   ]
  },
  {
   "cell_type": "markdown",
   "metadata": {},
   "source": [
    "### MSMS: \n",
    "#### Efield = 0 kappa = 0.086"
   ]
  },
  {
   "cell_type": "code",
   "execution_count": 3,
   "metadata": {},
   "outputs": [
    {
     "name": "stdout",
     "output_type": "stream",
     "text": [
      "p_solv:  1.32623976357\n",
      "E_solv_analitico: -556.961137398 Kcal/mol\n"
     ]
    }
   ],
   "source": [
    "Esolv = array([-634.8094, -578.3930, -565.5083, -560.3698])\n",
    "#N=array([14178, 21914, 42300, 81144])  #N° Elementos\n",
    "N = array([2, 4, 8, 16])\n",
    "\n",
    "r= 2\n",
    "p = log((Esolv[1] - Esolv[2])/(Esolv[2] - Esolv[3]))/log(r)\n",
    "print(\"p_solv: \", p)\n",
    "fsolvanalitico = Esolv[3] + ((Esolv[3] - Esolv[2])/((r**p) - 1))\n",
    "print('E_solv_analitico:',fsolvanalitico,'Kcal/mol')"
   ]
  },
  {
   "cell_type": "code",
   "execution_count": 4,
   "metadata": {},
   "outputs": [
    {
     "name": "stdout",
     "output_type": "stream",
     "text": [
      "[ 13.97732398   3.84799965   1.53460664   0.61201085]\n"
     ]
    }
   ],
   "source": [
    "PyGerr_solv = abs(Esolv-fsolvanalitico)/abs(fsolvanalitico)\n",
    "print(PyGerr_solv*100)\n",
    "figure(figsize=(3,2), dpi=80)\n",
    "loglog(N, PyGerr_solv, c='k', marker='o', mfc='w', ms=3, ls='', lw=0.5, label=\"$E_{0} = 0$\")\n",
    "loglog(N, 0.12/(N), c='k', marker='', mfc='w', ms=3, ls=':', lw=0.8, label=None)\n",
    "text(3e3, 0.5e-3,'1/N',fontsize=4,rotation=-8)\n",
    "ylabel('Error Esolv', fontsize=10)\n",
    "xlabel('N mesh',fontsize=10)\n",
    "subplots_adjust(left=0.25, bottom=0.25, right=0.96, top=0.96)\n",
    "axis([1,100,0.0001, 1])\n",
    "legend(loc='lower right', fontsize = '6')\n",
    "savefig('Error_1hel_Esolv_Ef0_k0.086_msms.pdf')\n",
    "clf()"
   ]
  },
  {
   "cell_type": "markdown",
   "metadata": {},
   "source": [
    "#### Efield = 5.5264e-5 kappa = 0.086"
   ]
  },
  {
   "cell_type": "code",
   "execution_count": 5,
   "metadata": {},
   "outputs": [
    {
     "name": "stdout",
     "output_type": "stream",
     "text": [
      "p_solv:  1.33078641701\n",
      "E_solv_analitico: -569.654877031 Kcal/mol\n"
     ]
    }
   ],
   "source": [
    "Esolv = array([-647.5146, -591.0499, -578.1605, -573.0363])\n",
    "#N=array([14178, 21914, 42300, 81144])  #N° Elementos\n",
    "N = array([2, 4, 8, 16])\n",
    "\n",
    "r= 2\n",
    "p = log((Esolv[1] - Esolv[2])/(Esolv[2] - Esolv[3]))/log(r)\n",
    "print(\"p_solv: \", p)\n",
    "fsolvanalitico = Esolv[3] + ((Esolv[3] - Esolv[2])/((r**p) - 1))\n",
    "print('E_solv_analitico:',fsolvanalitico,'Kcal/mol')"
   ]
  },
  {
   "cell_type": "code",
   "execution_count": 6,
   "metadata": {},
   "outputs": [
    {
     "name": "stdout",
     "output_type": "stream",
     "text": [
      "[ 13.66787613   3.75578685   1.49311861   0.59359151]\n"
     ]
    }
   ],
   "source": [
    "PyGerr_solv = abs(Esolv-fsolvanalitico)/abs(fsolvanalitico)\n",
    "print(PyGerr_solv*100)\n",
    "figure(figsize=(3,2), dpi=80)\n",
    "loglog(N, PyGerr_solv, c='k', marker='o', mfc='w', ms=3, ls='', lw=0.5, label=\"$E_{0} = 0$\")\n",
    "loglog(N, 0.12/(N), c='k', marker='', mfc='w', ms=3, ls=':', lw=0.8, label=None)\n",
    "text(3e3, 0.5e-3,'1/N',fontsize=4,rotation=-8)\n",
    "ylabel('Error Esolv', fontsize=10)\n",
    "xlabel('N mesh',fontsize=10)\n",
    "subplots_adjust(left=0.25, bottom=0.25, right=0.96, top=0.96)\n",
    "axis([1,100,0.0001, 1])\n",
    "legend(loc='lower right', fontsize = '6')\n",
    "savefig('Error_1hel_Esolv_Ef5.5264e-5_k0.086_msms.pdf')\n",
    "clf()"
   ]
  },
  {
   "cell_type": "code",
   "execution_count": null,
   "metadata": {
    "collapsed": true
   },
   "outputs": [],
   "source": []
  },
  {
   "cell_type": "code",
   "execution_count": null,
   "metadata": {
    "collapsed": true
   },
   "outputs": [],
   "source": []
  }
 ],
 "metadata": {
  "kernelspec": {
   "display_name": "Python 3",
   "language": "python",
   "name": "python3"
  },
  "language_info": {
   "codemirror_mode": {
    "name": "ipython",
    "version": 3
   },
   "file_extension": ".py",
   "mimetype": "text/x-python",
   "name": "python",
   "nbconvert_exporter": "python",
   "pygments_lexer": "ipython3",
   "version": "3.6.2"
  }
 },
 "nbformat": 4,
 "nbformat_minor": 2
}
