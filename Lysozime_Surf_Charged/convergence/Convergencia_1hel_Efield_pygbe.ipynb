{
 "cells": [
  {
   "cell_type": "markdown",
   "metadata": {},
   "source": [
    "## Estudio de Convergencia: Calculos con PyGBe"
   ]
  },
  {
   "cell_type": "markdown",
   "metadata": {},
   "source": [
    "### Lisozima 1hel sometida a un Campo Electrico Externo"
   ]
  },
  {
   "cell_type": "markdown",
   "metadata": {},
   "source": [
    "#### Parametros PyGBe\n",
    "\n",
    "\tUse GPU                 : 0\n",
    "\tP                       : 6\n",
    "\tthreshold               : 0.50\n",
    "\ttheta                   : 0.50\n",
    "\tNCRIT                   : 500\n",
    "\tCUDA block size         : 128\n",
    "\tGauss points per element: 4\n",
    "\tGauss points near singlr: 19\n",
    "\t1D Gauss points per side: 9\n",
    "\tGMRES tolerance         : 1e-05\n",
    "\tGMRES max iterations    : 1000\n",
    "\tGMRES restart iteration : 200"
   ]
  },
  {
   "cell_type": "markdown",
   "metadata": {},
   "source": [
    "### NanoShaper: \n",
    "#### Efield = 5.5264e-5 y _k_ = 0.086"
   ]
  },
  {
   "cell_type": "code",
   "execution_count": 1,
   "metadata": {},
   "outputs": [
    {
     "name": "stdout",
     "output_type": "stream",
     "text": [
      "p_solv:  1.25307000623\n",
      "E_solv_analitico: -575.301845688 Kcal/mol\n"
     ]
    }
   ],
   "source": [
    "from numpy import *\n",
    "from pylab import *\n",
    "import os\n",
    "\n",
    "#Esolv = array([-701.6664, -617.4536, -585.6496]) #kcal/mol sin campo\n",
    "Esolv = array([-714.3092, -630.0634, -598.2773, -584.9413]) #kcal/mol con campo EF:5.5264e-5\n",
    "#N=array([10428, 20200, 43244, 91116])  #N° Elementos\n",
    "N = array([2, 4, 8, 16])\n",
    "\n",
    "r= N[3]/N[2]\n",
    "p = log((Esolv[2] - Esolv[1])/(Esolv[3] - Esolv[2]))/log(r)\n",
    "print(\"p_solv: \", p)\n",
    "fsolvanalitico = Esolv[3] + ((Esolv[3] - Esolv[2])/((r**p) - 1))\n",
    "print('E_solv_analitico:',fsolvanalitico,'Kcal/mol')"
   ]
  },
  {
   "cell_type": "code",
   "execution_count": 2,
   "metadata": {},
   "outputs": [
    {
     "name": "stdout",
     "output_type": "stream",
     "text": [
      "[ 24.16250797   9.51875172   3.99363473   1.67554726]\n"
     ]
    }
   ],
   "source": [
    "PyGerr_solv = abs(Esolv-fsolvanalitico)/abs(fsolvanalitico)\n",
    "print(PyGerr_solv*100)\n",
    "figure(figsize=(3,2), dpi=80)\n",
    "loglog(N, PyGerr_solv, c='k', marker='o', mfc='w', ms=3, ls='', lw=0.5, label=\"$E_{0} = 5.5264e-05$\")\n",
    "loglog(N, 0.3/(N), c='k', marker='', mfc='w', ms=3, ls=':', lw=0.8, label=None)\n",
    "text(3e3, 0.25e-3,'1/N',fontsize=4,rotation=-8)\n",
    "ylabel('Error Esolv', fontsize=10)\n",
    "xlabel('N mesh',fontsize=10)\n",
    "subplots_adjust(left=0.25, bottom=0.25, right=0.96, top=0.96)\n",
    "axis([1,100,0.0001, 1])\n",
    "legend(loc='lower right', fontsize = '6')\n",
    "savefig('Error_1hel_Esolv_Ef5.5264e-5_k0.086_nanoshaper.pdf')\n",
    "clf()"
   ]
  },
  {
   "cell_type": "markdown",
   "metadata": {},
   "source": [
    "### MSMS: \n",
    "#### Efield = 0 kappa = 0.086"
   ]
  },
  {
   "cell_type": "code",
   "execution_count": 3,
   "metadata": {},
   "outputs": [
    {
     "name": "stdout",
     "output_type": "stream",
     "text": [
      "p_solv:  1.32623976357\n",
      "E_solv_analitico: -556.961137398 Kcal/mol\n"
     ]
    }
   ],
   "source": [
    "Esolv = array([-634.8094, -578.3930, -565.5083, -560.3698])\n",
    "#N=array([14178, 21914, 42300, 81144])  #N° Elementos\n",
    "N = array([2, 4, 8, 16])\n",
    "\n",
    "r= 2\n",
    "p = log((Esolv[1] - Esolv[2])/(Esolv[2] - Esolv[3]))/log(r)\n",
    "print(\"p_solv: \", p)\n",
    "fsolvanalitico = Esolv[3] + ((Esolv[3] - Esolv[2])/((r**p) - 1))\n",
    "print('E_solv_analitico:',fsolvanalitico,'Kcal/mol')"
   ]
  },
  {
   "cell_type": "code",
   "execution_count": 4,
   "metadata": {},
   "outputs": [
    {
     "name": "stdout",
     "output_type": "stream",
     "text": [
      "[ 13.97732398   3.84799965   1.53460664   0.61201085]\n"
     ]
    }
   ],
   "source": [
    "PyGerr_solv = abs(Esolv-fsolvanalitico)/abs(fsolvanalitico)\n",
    "print(PyGerr_solv*100)\n",
    "figure(figsize=(3,2), dpi=80)\n",
    "loglog(N, PyGerr_solv, c='k', marker='o', mfc='w', ms=3, ls='', lw=0.5, label=\"$E_{0} = 0$\")\n",
    "loglog(N, 0.12/(N), c='k', marker='', mfc='w', ms=3, ls=':', lw=0.8, label=None)\n",
    "text(3e3, 0.5e-3,'1/N',fontsize=4,rotation=-8)\n",
    "ylabel('Error Esolv', fontsize=10)\n",
    "xlabel('N mesh',fontsize=10)\n",
    "subplots_adjust(left=0.25, bottom=0.25, right=0.96, top=0.96)\n",
    "axis([1,100,0.0001, 1])\n",
    "legend(loc='lower right', fontsize = '6')\n",
    "savefig('Error_1hel_Esolv_Ef0_k0.086_msms.pdf')\n",
    "clf()"
   ]
  },
  {
   "cell_type": "markdown",
   "metadata": {},
   "source": [
    "#### Efield = 5.5264e-5 kappa = 0.086"
   ]
  },
  {
   "cell_type": "code",
   "execution_count": 5,
   "metadata": {},
   "outputs": [
    {
     "name": "stdout",
     "output_type": "stream",
     "text": [
      "p_solv:  1.33078641701\n",
      "E_solv_analitico: -569.654877031 Kcal/mol\n"
     ]
    }
   ],
   "source": [
    "Esolv = array([-647.5146, -591.0499, -578.1605, -573.0363])\n",
    "#N=array([14178, 21914, 42300, 81144])  #N° Elementos\n",
    "N = array([2, 4, 8, 16])\n",
    "\n",
    "r= 2\n",
    "p = log((Esolv[1] - Esolv[2])/(Esolv[2] - Esolv[3]))/log(r)\n",
    "print(\"p_solv: \", p)\n",
    "fsolvanalitico = Esolv[3] + ((Esolv[3] - Esolv[2])/((r**p) - 1))\n",
    "print('E_solv_analitico:',fsolvanalitico,'Kcal/mol')"
   ]
  },
  {
   "cell_type": "code",
   "execution_count": 6,
   "metadata": {},
   "outputs": [
    {
     "name": "stdout",
     "output_type": "stream",
     "text": [
      "[ 13.66787613   3.75578685   1.49311861   0.59359151]\n"
     ]
    }
   ],
   "source": [
    "PyGerr_solv = abs(Esolv-fsolvanalitico)/abs(fsolvanalitico)\n",
    "print(PyGerr_solv*100)\n",
    "figure(figsize=(3,2), dpi=80)\n",
    "loglog(N, PyGerr_solv, c='k', marker='o', mfc='w', ms=3, ls='', lw=0.5, label=\"$E_{0} = 0$\")\n",
    "loglog(N, 0.12/(N), c='k', marker='', mfc='w', ms=3, ls=':', lw=0.8, label=None)\n",
    "text(3e3, 0.5e-3,'1/N',fontsize=4,rotation=-8)\n",
    "ylabel('Error Esolv', fontsize=10)\n",
    "xlabel('N mesh',fontsize=10)\n",
    "subplots_adjust(left=0.25, bottom=0.25, right=0.96, top=0.96)\n",
    "axis([1,100,0.0001, 1])\n",
    "legend(loc='lower right', fontsize = '6')\n",
    "savefig('Error_1hel_Esolv_Ef5.5264e-5_k0.086_msms.pdf')\n",
    "clf()"
   ]
  },
  {
   "cell_type": "markdown",
   "metadata": {},
   "source": [
    "### Lisozima 1hel cerca de Surf. Cargada C= -0.04 C/m2 sometida a un Campo Electrico Externo"
   ]
  },
  {
   "cell_type": "markdown",
   "metadata": {},
   "source": [
    "#### Parametros PyGBe\n",
    "\n",
    "\tUse GPU                 : 1\n",
    "\tP                       : 4\n",
    "\tthreshold               : 0.50\n",
    "\ttheta                   : 0.50\n",
    "\tNCRIT                   : 500\n",
    "\tCUDA block size         : 128\n",
    "\tGauss points per element: 2\n",
    "\tGauss points near singlr: 19\n",
    "\t1D Gauss points per side: 9\n",
    "\tGMRES tolerance         : 1e-05\n",
    "\tGMRES max iterations    : 1000\n",
    "\tGMRES restart iteration : 200"
   ]
  },
  {
   "cell_type": "markdown",
   "metadata": {},
   "source": [
    "### NanoShaper\n",
    "#### Efield = 0.0 y _k_ = 0.086"
   ]
  },
  {
   "cell_type": "code",
   "execution_count": 7,
   "metadata": {},
   "outputs": [
    {
     "name": "stdout",
     "output_type": "stream",
     "text": [
      "p_solv:  1.25947812739\n",
      "p_surf:  0.552047878248\n",
      "E_solv_analitico: -564.674138178 Kcal/mol\n",
      "E_surf_analitico: 15.2685679107 Kcal/mol\n"
     ]
    }
   ],
   "source": [
    "Esolv = array([-702.7427, - 618.5601, -586.7376, -573.4455]) #kcal/mol sin campo\n",
    "Esurf = array([15.2229, 15.2362, 15.2557, 15.2612]) #kcal/mol sin campo\n",
    "#Esolv = array([-722.6692, -638.5672, -606.8794, -593.6063]) #kcal/mol con campo EF:5.5264e-5\n",
    "#Esurf = array([-18.7799, -18.7691, -18.7500]) #kcal/mol con campo EF:5.5264e-5\n",
    "NN=array([25128, 49012, 102044, 206034])#N° Elementos\n",
    "N = array([2, 4, 8, 16])\n",
    "\n",
    "r= 2\n",
    "r_surf = 0.5\n",
    "p_solv = log((Esolv[2] - Esolv[1])/(Esolv[3] - Esolv[2]))/log(r)\n",
    "p_surf = log((Esurf[1] - Esurf[0])/(Esurf[2] - Esurf[1]))/log(r_surf)\n",
    "print(\"p_solv: \", p_solv)\n",
    "print(\"p_surf: \", p_surf)\n",
    "fsolvanalitico = Esolv[3] + ((Esolv[3] - Esolv[2])/((r**p) - 1))\n",
    "fsurfanalitico = Esurf[2] + ((Esurf[2] - Esurf[1])/((r**p) - 1))\n",
    "print('E_solv_analitico:',fsolvanalitico,'Kcal/mol')\n",
    "print('E_surf_analitico:',fsurfanalitico,'Kcal/mol')"
   ]
  },
  {
   "cell_type": "code",
   "execution_count": 8,
   "metadata": {},
   "outputs": [
    {
     "name": "stdout",
     "output_type": "stream",
     "text": [
      "[ 24.45101564   9.54284218   3.90729101   1.55334931]\n",
      "[ 0.29909754  0.21199048  0.08427713  0.04825541]\n"
     ]
    }
   ],
   "source": [
    "PyGerr_solv = abs(Esolv-fsolvanalitico)/abs(fsolvanalitico)\n",
    "print(PyGerr_solv*100)\n",
    "PyGerr_surf = abs(Esurf-fsurfanalitico)/abs(fsurfanalitico)\n",
    "print(PyGerr_surf*100)\n",
    "figure(figsize=(3,2), dpi=80)\n",
    "loglog(N, PyGerr_solv, c='k', marker='o', mfc='w', ms=3, ls='', lw=0.5, label=\"$E_{solv}$\")\n",
    "loglog(N, 0.35/(N), c='k', marker='', mfc='w', ms=3, ls=':', lw=0.8, label=None)\n",
    "loglog(N, PyGerr_surf, c='k', marker='^', mfc='w', ms=3, ls='', lw=0.5, label=\"$E_{surf}$\")\n",
    "loglog(N, 0.009/(N), c='k', marker='', mfc='w', ms=3, ls=':', lw=0.8, label=None)\n",
    "text(3e3, 0.25e-3,'1/N',fontsize=4,rotation=-8)\n",
    "ylabel('Error Esolv', fontsize=10)\n",
    "xlabel('N mesh',fontsize=10)\n",
    "subplots_adjust(left=0.25, bottom=0.25, right=0.96, top=0.96)\n",
    "axis([1,100,0.0001, 1])\n",
    "legend(loc='lower right', fontsize = '6')\n",
    "#savefig('Error_1hel-sensor_Esolv_Ef5.5264e-5_k0.086.pdf')\n",
    "savefig('Error_1hel-sensor_Esolv_Ef0.0_k0.086_nanoshaper.pdf')\n",
    "clf()"
   ]
  },
  {
   "cell_type": "code",
   "execution_count": null,
   "metadata": {
    "collapsed": true
   },
   "outputs": [],
   "source": []
  },
  {
   "cell_type": "markdown",
   "metadata": {},
   "source": [
    "#### Efield = 5.5264e-5 y _k_ = 0.086"
   ]
  },
  {
   "cell_type": "code",
   "execution_count": 73,
   "metadata": {},
   "outputs": [
    {
     "name": "stdout",
     "output_type": "stream",
     "text": [
      "p_solv:  1.25542214188\n",
      "p_surf:  -0.837569535105\n",
      "E_solv_analitico: -584.847476142 Kcal/mol\n",
      "E_surf_analitico: -18.7370640679 Kcal/mol\n"
     ]
    }
   ],
   "source": [
    "Esolv = array([-722.6692, -638.5672, -606.8794, -593.6063]) #kcal/mol con campo EF:5.5264e-5\n",
    "Esurf = array([-18.7799, -18.7691, -18.7498, -18.7513]) #kcal/mol con campo EF:5.5264e-5\n",
    "NN=array([25128, 49012, 102044, 206034])#N° Elementos\n",
    "N = array([2, 4, 8, 16])\n",
    "\n",
    "r= 2.0\n",
    "r_surf = 2.0\n",
    "p_solv = log((Esolv[2] - Esolv[1])/(Esolv[3] - Esolv[2]))/log(r)\n",
    "p_surf = log((Esurf[1] - Esurf[0])/(Esurf[2] - Esurf[1]))/log(r_surf)\n",
    "print(\"p_solv: \", p_solv)\n",
    "print(\"p_surf: \", p_surf)\n",
    "fsolvanalitico = Esolv[3] + ((Esolv[3] - Esolv[2])/((r**p) - 1))\n",
    "fsurfanalitico = Esurf[2] + ((Esurf[2] - Esurf[1])/((r**p) - 1))\n",
    "print('E_solv_analitico:',fsolvanalitico,'Kcal/mol')\n",
    "print('E_surf_analitico:',fsurfanalitico,'Kcal/mol')\n",
    "\n",
    "asymp_solv = NN[-1]*Esolv_error[-1]/NN\n",
    "asymp_surf = NN[-2]*Esurf_error[-2]/NN\n"
   ]
  },
  {
   "cell_type": "code",
   "execution_count": 74,
   "metadata": {},
   "outputs": [
    {
     "name": "stdout",
     "output_type": "stream",
     "text": [
      "[ 23.56541312   9.1852536    3.76712301   1.49762532]\n",
      "[ 0.22861603  0.17097626  0.06797187  0.07597739]\n"
     ]
    }
   ],
   "source": [
    "PyGerr_solv = abs(Esolv-fsolvanalitico)/abs(fsolvanalitico)\n",
    "print(PyGerr_solv*100)\n",
    "PyGerr_surf = abs(Esurf-fsurfanalitico)/abs(fsurfanalitico)\n",
    "print(PyGerr_surf*100)\n",
    "figure(figsize=(3,2), dpi=80)\n",
    "loglog(NN, PyGerr_solv, c='k', marker='o', mfc='w', ms=3, ls='', lw=0.5, label=\"$E_{solv}$\")\n",
    "loglog(NN, asymp_solv, c='k', marker='', mfc='w', ms=3, ls=':', lw=0.8, label=None)\n",
    "loglog(NN, PyGerr_surf, c='k', marker='^', mfc='w', ms=3, ls='', lw=0.5, label=\"$E_{surf}$\")\n",
    "loglog(NN, asymp_surf, c='k', marker='', mfc='w', ms=3, ls=':', lw=0.8, label=None)\n",
    "ylabel('error relativo', fontsize=10)\n",
    "xlabel('N mesh',fontsize=10)\n",
    "subplots_adjust(left=0.25, bottom=0.25, right=0.92, top=0.92)\n",
    "axis([10000,1000000,0.000001, 1])\n",
    "legend(loc='lower right', fontsize = '6')\n",
    "#savefig('Error_1hel-sensor_Esolv_Ef5.5264e-5_k0.086.pdf')\n",
    "savefig('Error_1hel-sensor_Esolv_Ef5.5264e-5_k0.086_nanoshaper.pdf')\n",
    "clf()"
   ]
  },
  {
   "cell_type": "markdown",
   "metadata": {},
   "source": [
    "#### Otra forma de extrapolacion"
   ]
  },
  {
   "cell_type": "code",
   "execution_count": 50,
   "metadata": {},
   "outputs": [],
   "source": [
    "#Esolv = array([-722.6692, -638.5672, -606.8794, -593.6063]) #kcal/mol con campo EF:5.5264e-5\n",
    "#Esurf = array([-18.7799, -18.7691, -18.7498, -18.7513]) #kcal/mol con campo EF:5.5264e-5\n",
    "#Esurf = array([-16.87029,-16.87102,-16.87139, -16.87156]) #con campo sensor aislado\n",
    "#Esolv = array([-1037.3965, -722.6692, -638.5672, -606.8794]) #kcal/mol con campo EF:5.5264e-5\n",
    "#Esurf = array([-18.7192, -18.7799, -18.7691, -18.7498]) #kcal/mol con campo EF:5.5264e-5\n",
    "#NN=array([25128, 49012, 102044, 206034])#N° Elementos\n",
    "#NN=array([12864, 25128, 49012, 102044])#N° Elementos\n",
    "#Esolv_extra = (Esolv[-3]*Esolv[-1]-Esolv[-2]*Esolv[-2])/(Esolv[-1]-2*Esolv[-2]+Esolv[-3])\n",
    "#Esurf_extra = (Esurf[-1]*Esurf[-3]-Esurf[-2]*Esurf[-2])/(Esurf[-1]-2*Esurf[-2]+Esurf[-3])\n",
    "#Esolv_error = abs(Esolv-Esolv_extra)/abs(Esolv_extra)\n",
    "#Esurf_error = abs(Esurf-fsurfanalitico)/abs(fsurfanalitico)\n",
    "#asymp_solv = NN[-2]*Esolv_error[-2]/NN\n",
    "#asymp_surf = NN[-2]*Esurf_error[-2]/NN"
   ]
  },
  {
   "cell_type": "code",
   "execution_count": 51,
   "metadata": {},
   "outputs": [],
   "source": [
    "#print(Esolv_extra)\n",
    "#print(Esurf_extra)\n",
    "#print(Esolv_error)\n",
    "#print(Esurf_error)\n",
    "#print(asymp_solv)\n",
    "#print(asymp_surf)"
   ]
  },
  {
   "cell_type": "code",
   "execution_count": 52,
   "metadata": {},
   "outputs": [],
   "source": [
    "#figure(figsize=(3,2), dpi=80)\n",
    "#loglog(NN, Esolv_error, c='k', marker='o', mfc='w', ms=3, ls='', lw=0.5, label=\"$E_{solv}$\")\n",
    "#loglog(NN, asymp_solv, c='k', marker='', mfc='w', ms=3, ls=':', lw=0.8, label=None)\n",
    "#loglog(NN, Esurf_error, c='k', marker='^', mfc='w', ms=3, ls='', lw=0.5, label=\"$E_{surf}$\")\n",
    "#loglog(NN, asymp_surf, c='k', marker='', mfc='w', ms=3, ls=':', lw=0.8, label=None)\n",
    "#text(3e3, 0.25e-3,'1/N',fontsize=4,rotation=-8)\n",
    "#ylabel('error relativo', fontsize=10)\n",
    "#xlabel('N mesh',fontsize=10)\n",
    "#subplots_adjust(left=0.25, bottom=0.25, right=0.92, top=0.92)\n",
    "#axis([10000,1000000,0.000001, 1])\n",
    "#legend(loc='lower right', fontsize = '6')\n",
    "#savefig('Error_1hel-sensor_Esolv_Ef5.5264e-5_k0.086.pdf')\n",
    "#savefig('Error_test.pdf')\n",
    "#clf()"
   ]
  },
  {
   "cell_type": "code",
   "execution_count": null,
   "metadata": {},
   "outputs": [],
   "source": []
  },
  {
   "cell_type": "code",
   "execution_count": null,
   "metadata": {},
   "outputs": [],
   "source": []
  },
  {
   "cell_type": "code",
   "execution_count": null,
   "metadata": {
    "collapsed": true
   },
   "outputs": [],
   "source": []
  },
  {
   "cell_type": "code",
   "execution_count": null,
   "metadata": {
    "collapsed": true
   },
   "outputs": [],
   "source": []
  }
 ],
 "metadata": {
  "kernelspec": {
   "display_name": "Python 3",
   "language": "python",
   "name": "python3"
  },
  "language_info": {
   "codemirror_mode": {
    "name": "ipython",
    "version": 3
   },
   "file_extension": ".py",
   "mimetype": "text/x-python",
   "name": "python",
   "nbconvert_exporter": "python",
   "pygments_lexer": "ipython3",
   "version": "3.6.2"
  }
 },
 "nbformat": 4,
 "nbformat_minor": 2
}
