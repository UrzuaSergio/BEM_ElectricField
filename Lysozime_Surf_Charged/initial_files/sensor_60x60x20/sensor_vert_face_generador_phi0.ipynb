{
 "cells": [
  {
   "cell_type": "code",
   "execution_count": 1,
   "metadata": {
    "collapsed": true
   },
   "outputs": [],
   "source": [
    "import numpy"
   ]
  },
  {
   "cell_type": "code",
   "execution_count": 2,
   "metadata": {},
   "outputs": [
    {
     "name": "stdout",
     "output_type": "stream",
     "text": [
      "3.121098626716605e-05\n"
     ]
    }
   ],
   "source": [
    "#MALLA SENSOR [x,y,z] = 60x60x20 \n",
    "#Densidad:\n",
    "D02 = 14700\n",
    "D04 = 28812\n",
    "D08 = 58800\n",
    "\n",
    "Sigma0 = -0.04\n",
    "dphidn = - (Sigma0*((1e-10)**2))/(80*1.602e-19)\n",
    "print(dphidn)"
   ]
  },
  {
   "cell_type": "code",
   "execution_count": 3,
   "metadata": {
    "collapsed": true
   },
   "outputs": [],
   "source": [
    "#GENERAR ARCHIVO PHI0 densidad D02:\n",
    "carga='3.000000000000000e-05'\n",
    "file_phi0=open('sensor_d02_60x60x20_3e-5+3e-5+3e-5+3e-5+3e-5+3e-5.phi0','w')\n",
    "for i in range(int(float(D02))):\n",
    "    linea='{0}\\n'.format(carga)\n",
    "    file_phi0.write(linea)\n",
    "file_phi0.close()"
   ]
  },
  {
   "cell_type": "code",
   "execution_count": 4,
   "metadata": {
    "collapsed": true
   },
   "outputs": [],
   "source": [
    "#GENERAR ARCHIVO PHI0 densidad D04:\n",
    "carga='3.000000000000000e-05'\n",
    "file_phi0=open('sensor_d04_60x60x20_3e-5+3e-5+3e-5+3e-5+3e-5+3e-5.phi0','w')\n",
    "for i in range(int(float(D04))):\n",
    "    linea='{0}\\n'.format(carga)\n",
    "    file_phi0.write(linea)\n",
    "file_phi0.close()"
   ]
  },
  {
   "cell_type": "code",
   "execution_count": 5,
   "metadata": {
    "collapsed": true
   },
   "outputs": [],
   "source": [
    "#GENERAR ARCHIVO PHI0 densidad D04:\n",
    "carga='3.000000000000000e-05'\n",
    "file_phi0=open('sensor_d08_60x60x20_3e-5+3e-5+3e-5+3e-5+3e-5+3e-5.phi0','w')\n",
    "for i in range(int(float(D08))):\n",
    "    linea='{0}\\n'.format(carga)\n",
    "    file_phi0.write(linea)\n",
    "file_phi0.close()"
   ]
  },
  {
   "cell_type": "code",
   "execution_count": 6,
   "metadata": {
    "collapsed": true
   },
   "outputs": [],
   "source": []
  },
  {
   "cell_type": "code",
   "execution_count": null,
   "metadata": {
    "collapsed": true
   },
   "outputs": [],
   "source": []
  }
 ],
 "metadata": {
  "kernelspec": {
   "display_name": "Python 3",
   "language": "python",
   "name": "python3"
  },
  "language_info": {
   "codemirror_mode": {
    "name": "ipython",
    "version": 3
   },
   "file_extension": ".py",
   "mimetype": "text/x-python",
   "name": "python",
   "nbconvert_exporter": "python",
   "pygments_lexer": "ipython3",
   "version": "3.6.2"
  }
 },
 "nbformat": 4,
 "nbformat_minor": 2
}
