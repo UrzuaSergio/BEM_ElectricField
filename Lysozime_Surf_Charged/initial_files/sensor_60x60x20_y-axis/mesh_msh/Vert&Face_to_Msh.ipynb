{
 "cells": [
  {
   "cell_type": "code",
   "execution_count": 1,
   "metadata": {
    "collapsed": true
   },
   "outputs": [],
   "source": [
    "import numpy"
   ]
  },
  {
   "cell_type": "code",
   "execution_count": 2,
   "metadata": {
    "collapsed": true
   },
   "outputs": [],
   "source": [
    "Vert = \"1hel_d16_split_113-0-2.vert\"\n",
    "Face = \"1hel_d16_split_113-0-2.face\"\n",
    "Msh = \"1hel_d16_split_113-0-2.msh\"\n",
    "\n",
    "file_vert=open(Vert,'r')\n",
    "file_face=open(Face,'r')\n",
    "file_msh =open(Msh,'w')\n",
    "\n",
    "file_msh.write(\"$MeshFormat \\n\")\n",
    "file_msh.write(\"2.2 0 8 \\n\")\n",
    "file_msh.write(\"$EndMeshFormat \\n\")\n",
    "file_msh.write(\"$Nodes \\n\")\n",
    "file_msh.write(\"45132 \\n\")\n",
    "\n",
    "count = 0\n",
    "for line in file_vert:\n",
    "    count += 1 \n",
    "    line_s=line.split()\n",
    "    line_w = \"{0} {1} {2} {3}\\n\".format(count, line_s[0], line_s[1], line_s[2])\n",
    "    file_msh.write(line_w)\n",
    "\n",
    "    \n",
    "file_msh.write(\"$EndNodes \\n\")\n",
    "file_msh.write(\"$Elements \\n\")\n",
    "file_msh.write(\"90260 \\n\")\n",
    "\n",
    "count2 = 0\n",
    "for linef in file_face:\n",
    "    line_ss=linef.split()\n",
    "    if len(line_ss) == 3:\n",
    "        count2 +=1\n",
    "        line_ww = \"{0} {1} {2} {3} {4} {5} {6} {7}\\n\".format(count2, '2', '2', '0', '0', line_ss[0], line_ss[1], line_ss[2])\n",
    "        file_msh.write(line_ww)\n",
    "       \n",
    "    \n",
    "file_msh.write(\"$EndElements \\n\")\n",
    "    \n",
    "file_msh.close()"
   ]
  },
  {
   "cell_type": "code",
   "execution_count": 2,
   "metadata": {
    "collapsed": true
   },
   "outputs": [],
   "source": [
    "Vert = \"sensor_60x20x60_d04.vert\"\n",
    "Face = \"sensor_60x20x60_d04.face\"\n",
    "Msh = \"sensor_60x20x60_d04.msh\"\n",
    "\n",
    "file_vert=open(Vert,'r')\n",
    "file_face=open(Face,'r')\n",
    "file_msh =open(Msh,'w')\n",
    "\n",
    "file_msh.write(\"$MeshFormat \\n\")\n",
    "file_msh.write(\"2.2 0 8 \\n\")\n",
    "file_msh.write(\"$EndMeshFormat \\n\")\n",
    "file_msh.write(\"$Nodes \\n\")\n",
    "file_msh.write(\"24768 \\n\")\n",
    "\n",
    "count = 0\n",
    "for line in file_vert:\n",
    "    count += 1 \n",
    "    line_s=line.split()\n",
    "    line_w = \"{0} {1} {2} {3}\\n\".format(count, line_s[0], line_s[1], line_s[2])\n",
    "    file_msh.write(line_w)\n",
    "\n",
    "    \n",
    "file_msh.write(\"$EndNodes \\n\")\n",
    "file_msh.write(\"$Elements \\n\")\n",
    "file_msh.write(\"47940 \\n\")\n",
    "\n",
    "count2 = 0\n",
    "for linef in file_face:\n",
    "    line_ss=linef.split()\n",
    "\n",
    "    count2 +=1\n",
    "    line_ww = \"{0} {1} {2} {3} {4} {5} {6} {7}\\n\".format(count2, '2', '2', '0', '0', line_ss[0], line_ss[1], line_ss[2])\n",
    "    file_msh.write(line_ww)\n",
    "       \n",
    "\n",
    "    \n",
    "file_msh.write(\"$EndElements \\n\")\n",
    "    \n",
    "file_msh.close()"
   ]
  },
  {
   "cell_type": "code",
   "execution_count": 4,
   "metadata": {
    "collapsed": true
   },
   "outputs": [],
   "source": []
  },
  {
   "cell_type": "code",
   "execution_count": null,
   "metadata": {
    "collapsed": true
   },
   "outputs": [],
   "source": []
  }
 ],
 "metadata": {
  "kernelspec": {
   "display_name": "Python 3",
   "language": "python",
   "name": "python3"
  },
  "language_info": {
   "codemirror_mode": {
    "name": "ipython",
    "version": 3
   },
   "file_extension": ".py",
   "mimetype": "text/x-python",
   "name": "python",
   "nbconvert_exporter": "python",
   "pygments_lexer": "ipython3",
   "version": "3.6.2"
  }
 },
 "nbformat": 4,
 "nbformat_minor": 2
}
