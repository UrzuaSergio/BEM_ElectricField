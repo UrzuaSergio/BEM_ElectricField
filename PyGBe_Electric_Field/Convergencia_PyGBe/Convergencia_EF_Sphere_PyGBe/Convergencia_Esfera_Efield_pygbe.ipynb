{
 "cells": [
  {
   "cell_type": "markdown",
   "metadata": {},
   "source": [
    "## Estudio de Convergencia: Calculos con PyGBe"
   ]
  },
  {
   "cell_type": "markdown",
   "metadata": {},
   "source": [
    "### Esfera con Carga Electrica Puntual sometido a un Campo Electrico Externo"
   ]
  },
  {
   "cell_type": "markdown",
   "metadata": {},
   "source": [
    "#### Parametros PyGBe\n",
    "\n",
    "\tUse GPU                 : 0\n",
    "\tP                       : 15\n",
    "\tthreshold               : 0.50\n",
    "\ttheta                   : 0.50\n",
    "\tNCRIT                   : 500\n",
    "\tCUDA block size         : 128\n",
    "\tGauss points per element: 3\n",
    "\tGauss points near singlr: 19\n",
    "\t1D Gauss points per side: 9\n",
    "\tGMRES tolerance         : 1e-05\n",
    "\tGMRES max iterations    : 1000\n",
    "\tGMRES restart iteration : 200"
   ]
  },
  {
   "cell_type": "markdown",
   "metadata": {},
   "source": [
    "#### Efield = 0. y _k_ = 0.125"
   ]
  },
  {
   "cell_type": "code",
   "execution_count": 1,
   "metadata": {},
   "outputs": [
    {
     "name": "stdout",
     "output_type": "stream",
     "text": [
      "p_solv:  0.998335191613\n",
      "E_solv_analitico: -13.245345 Kcal/mol\n"
     ]
    }
   ],
   "source": [
    "from numpy import *\n",
    "from pylab import *\n",
    "import os\n",
    "\n",
    "\n",
    "os.system('mkdir convergencia_kappa0.125/')\n",
    "\n",
    "Esolv = array([-13.287369, -13.266583, -13.256178]) #kcal/mol\n",
    "N=array([2348, 4744, 9414])  #N° Elementos\n",
    "\n",
    "fsolvanalitico_solv= -13.245345  #kcal/mol\n",
    "\n",
    "r=2\n",
    "p_solv = log((Esolv[0] - Esolv[1])/(Esolv[1] - Esolv[2]))/log(r)\n",
    "print(\"p_solv: \", p_solv)\n",
    "#fsolvanalitico = Esolv[2] + ((Esolv[2] - Esolv[1])/((r**p) - 1))\n",
    "print('E_solv_analitico:',fsolvanalitico_solv,'Kcal/mol')"
   ]
  },
  {
   "cell_type": "code",
   "execution_count": 2,
   "metadata": {
    "collapsed": true
   },
   "outputs": [],
   "source": [
    "PyGerr_solv = abs(Esolv-fsolvanalitico_solv)/abs(fsolvanalitico_solv)\n",
    "figure(figsize=(3,2), dpi=80)\n",
    "loglog(N, PyGerr_solv, c='k', marker='o', mfc='w', ms=3, ls='', lw=0.2, label=\"$E_{0} = 0.0$\")\n",
    "loglog(N, 8./(N), c='k', marker='', mfc='w', ms=3, ls=':', lw=0.8, label=None)\n",
    "text(3e3, 0.35e-2,'1/N',fontsize=4,rotation=-8)\n",
    "ylabel('Error Esolv', fontsize=10)\n",
    "xlabel('N mesh',fontsize=10)\n",
    "subplots_adjust(left=0.25, bottom=0.25, right=0.96, top=0.92)\n",
    "axis([1000,50000,0.000001, 1])\n",
    "legend(loc='lower right', fontsize = 7)\n",
    "savefig('convergencia_kappa0.125/Error_Esfera_Esolv_Ef0.0_k0.125_pygbe.pdf')\n",
    "clf()"
   ]
  },
  {
   "cell_type": "markdown",
   "metadata": {},
   "source": [
    "#### Efield = 0.8 y _k_ = 0.125"
   ]
  },
  {
   "cell_type": "code",
   "execution_count": 10,
   "metadata": {},
   "outputs": [
    {
     "name": "stdout",
     "output_type": "stream",
     "text": [
      "p_solv:  0.853059891612\n",
      "E_solv_analitico: -4782.199966 Kcal/mol\n"
     ]
    }
   ],
   "source": [
    "Esolv = array([-4782.702861, -4782.473759, -4782.346926]) #kcal/mol docker\n",
    "N=array([2348, 4744, 9414])  #N° Elementos\n",
    "\n",
    "fsolvanalitico_solv= -4782.199966  #kcal/mol\n",
    "\n",
    "r=2\n",
    "p_solv = log((Esolv[0] - Esolv[1])/(Esolv[1] - Esolv[2]))/log(r)\n",
    "print(\"p_solv: \", p_solv)\n",
    "#fsolvanalitico = Esolv[2] + ((Esolv[2] - Esolv[1])/((r**p) - 1))\n",
    "print('E_solv_analitico:',fsolvanalitico_solv,'Kcal/mol')"
   ]
  },
  {
   "cell_type": "code",
   "execution_count": 16,
   "metadata": {},
   "outputs": [
    {
     "name": "stdout",
     "output_type": "stream",
     "text": [
      "[ 0.01051598  0.00572525  0.00307306]\n"
     ]
    }
   ],
   "source": [
    "PyGerr_solv = abs(Esolv-fsolvanalitico_solv)/abs(fsolvanalitico_solv)\n",
    "print(PyGerr_solv*100)\n",
    "figure(figsize=(3,2), dpi=80)\n",
    "loglog(N, PyGerr_solv, c='k', marker='o', mfc='w', ms=3, ls='', lw=0.5, label=\"$E_{0} = 0.8$\")\n",
    "loglog(N, 0.25/(N), c='k', marker='', mfc='w', ms=3, ls=':', lw=0.8, label=None)\n",
    "text(3e3, 0.15e-3,'1/N',fontsize=4,rotation=-8)\n",
    "ylabel('Error Esolv', fontsize=7)\n",
    "xlabel('N mesh',fontsize=7)\n",
    "subplots_adjust(left=0.25, bottom=0.25, right=0.96, top=0.92)\n",
    "axis([1000,50000,0.000000001, 1])\n",
    "legend(loc='lower right', fontsize = 7)\n",
    "savefig('convergencia_kappa0.125/Error_Esfera_Esolv_Ef0.8_k0.125_pygbe.pdf')\n",
    "clf()"
   ]
  },
  {
   "cell_type": "markdown",
   "metadata": {},
   "source": [
    "#### Efield = 1.6 y _k_ = 0.125"
   ]
  },
  {
   "cell_type": "code",
   "execution_count": 5,
   "metadata": {},
   "outputs": [
    {
     "name": "stdout",
     "output_type": "stream",
     "text": [
      "p_solv:  0.845160517436\n",
      "E_solv_analitico: -9551.154586 Kcal/mol\n"
     ]
    }
   ],
   "source": [
    "Esolv = array([-9552.118334, -9551.681132, -9551.437764]) #kcal/mol\n",
    "N=array([2348, 4744, 9414])  #N° Elementos\n",
    "\n",
    "fsolvanalitico_solv= -9551.154586  #kcal/mol\n",
    "\n",
    "r=2\n",
    "p_solv = log((Esolv[0] - Esolv[1])/(Esolv[1] - Esolv[2]))/log(r)\n",
    "print(\"p_solv: \", p_solv)\n",
    "#fsolvanalitico = Esolv[2] + ((Esolv[2] - Esolv[1])/((r**p) - 1))\n",
    "print('E_solv_analitico:',fsolvanalitico_solv,'Kcal/mol')"
   ]
  },
  {
   "cell_type": "code",
   "execution_count": 6,
   "metadata": {},
   "outputs": [
    {
     "name": "stdout",
     "output_type": "stream",
     "text": [
      "[  1.00903822e-04   5.51290418e-05   2.96485621e-05]\n"
     ]
    }
   ],
   "source": [
    "PyGerr_solv = abs(Esolv-fsolvanalitico_solv)/abs(fsolvanalitico_solv)\n",
    "print(PyGerr_solv)\n",
    "figure(figsize=(3,2), dpi=80)\n",
    "loglog(N, PyGerr_solv, c='k', marker='o', mfc='w', ms=3, ls='', lw=0.5, label=\"$E_{0} = 1.6$\")\n",
    "loglog(N, 0.25/(N), c='k', marker='', mfc='w', ms=3, ls=':', lw=0.8, label=None)\n",
    "text(3e3, 0.15e-3,'1/N',fontsize=4,rotation=-8)\n",
    "ylabel('Error Esolv', fontsize=10)\n",
    "xlabel('N mesh',fontsize=10)\n",
    "subplots_adjust(left=0.25, bottom=0.25, right=0.96, top=0.96)\n",
    "axis([1000,50000,0.000000001, 1])\n",
    "legend(loc='lower right', fontsize = 7)\n",
    "savefig('convergencia_kappa0.125/Error_Esfera_Esolv_Ef1.6_k0.125_pygbe.pdf')\n",
    "clf()"
   ]
  },
  {
   "cell_type": "markdown",
   "metadata": {},
   "source": [
    "#### Efield = 2.4 y _k_ = 0.125"
   ]
  },
  {
   "cell_type": "code",
   "execution_count": 7,
   "metadata": {},
   "outputs": [
    {
     "name": "stdout",
     "output_type": "stream",
     "text": [
      "p_solv:  0.842326667752\n",
      "E_solv_analitico: -14320.109206 Kcal/mol\n"
     ]
    }
   ],
   "source": [
    "Esolv = array([-14321.533806, -14320.888511,  -14320.528602]) #kcal/mol\n",
    "N=array([2348, 4744, 9414])  #N° Elementos\n",
    "\n",
    "fsolvanalitico_solv= -14320.109206  #kcal/mol\n",
    "\n",
    "r=2\n",
    "p_solv = log((Esolv[0] - Esolv[1])/(Esolv[1] - Esolv[2]))/log(r)\n",
    "print(\"p_solv: \", p_solv)\n",
    "#fsolvanalitico = Esolv[2] + ((Esolv[2] - Esolv[1])/((r**p) - 1))\n",
    "print('E_solv_analitico:',fsolvanalitico_solv,'Kcal/mol')"
   ]
  },
  {
   "cell_type": "code",
   "execution_count": 8,
   "metadata": {},
   "outputs": [
    {
     "name": "stdout",
     "output_type": "stream",
     "text": [
      "[  9.94824816e-05   5.44203252e-05   2.92872068e-05]\n"
     ]
    }
   ],
   "source": [
    "PyGerr_solv = abs(Esolv-fsolvanalitico_solv)/abs(fsolvanalitico_solv)\n",
    "print(PyGerr_solv)\n",
    "figure(figsize=(3,2), dpi=80)\n",
    "loglog(N, PyGerr_solv, c='k', marker='o', mfc='w', ms=3, ls='', lw=0.5, label=\"$E_{0} = 2.4$\")\n",
    "loglog(N, 0.25/(N), c='k', marker='', mfc='w', ms=3, ls=':', lw=0.8, label=None)\n",
    "text(3e3, 0.15e-3,'1/N',fontsize=4,rotation=-8)\n",
    "ylabel('Error Esolv', fontsize=10)\n",
    "xlabel('N mesh',fontsize=10)\n",
    "subplots_adjust(left=0.25, bottom=0.25, right=0.96, top=0.96)\n",
    "axis([1000,50000,0.000000001, 1])\n",
    "legend(loc='lower right', fontsize = 7)\n",
    "savefig('convergencia_kappa0.125/Error_Esfera_Esolv_Ef2.4_k0.125_pygbe.pdf')\n",
    "clf()"
   ]
  },
  {
   "cell_type": "markdown",
   "metadata": {},
   "source": [
    "#### Efield = 0. y _k_ = 1e-12"
   ]
  },
  {
   "cell_type": "code",
   "execution_count": 9,
   "metadata": {},
   "outputs": [
    {
     "name": "stdout",
     "output_type": "stream",
     "text": [
      "p_solv:  0.997838867591\n",
      "E_solv_analitico: -13.056635 Kcal/mol\n"
     ]
    }
   ],
   "source": [
    "from numpy import *\n",
    "from pylab import *\n",
    "import os\n",
    "\n",
    "\n",
    "os.system('mkdir convergencia_kappa1e-12/')\n",
    "\n",
    "Esolv = array([-13.098453, -13.077774, -13.067419]) #kcal/mol\n",
    "N=array([2348, 4744, 9414])  #N° Elementos\n",
    "\n",
    "fsolvanalitico_solv= -13.056635  #kcal/mol\n",
    "\n",
    "r=2\n",
    "p_solv = log((Esolv[0] - Esolv[1])/(Esolv[1] - Esolv[2]))/log(r)\n",
    "print(\"p_solv: \", p_solv)\n",
    "print('E_solv_analitico:',fsolvanalitico_solv,'Kcal/mol')"
   ]
  },
  {
   "cell_type": "code",
   "execution_count": 10,
   "metadata": {
    "collapsed": true
   },
   "outputs": [],
   "source": [
    "PyGerr_solv = abs(Esolv-fsolvanalitico_solv)/abs(fsolvanalitico_solv)\n",
    "figure(figsize=(3,2), dpi=80)\n",
    "loglog(N, PyGerr_solv, c='k', marker='o', mfc='w', ms=3, ls='', lw=0.5, label=\"E = 0.0\")\n",
    "loglog(N, 8./(N), c='k', marker='', mfc='w', ms=3, ls=':', lw=0.8, label=None)\n",
    "text(3e3, 0.25e-3,'1/N',fontsize=4,rotation=-8)\n",
    "ylabel('Error Esolv', fontsize=10)\n",
    "xlabel('N mesh',fontsize=10)\n",
    "subplots_adjust(left=0.25, bottom=0.25, right=0.96, top=0.96)\n",
    "axis([1000,100000,0.0000001, 1])\n",
    "legend(loc='lower right')\n",
    "savefig('convergencia_kappa1e-12/Error_Esfera_Esolv_Ef0.0_k0.0_pygbe.pdf')\n",
    "clf()"
   ]
  },
  {
   "cell_type": "markdown",
   "metadata": {},
   "source": [
    "#### Efield = 0.8 y _k_ = 1e-12"
   ]
  },
  {
   "cell_type": "code",
   "execution_count": 11,
   "metadata": {},
   "outputs": [
    {
     "name": "stdout",
     "output_type": "stream",
     "text": [
      "p_solv:  0.711996052554\n",
      "E_solv_analitico: -4898.32722 Kcal/mol\n"
     ]
    }
   ],
   "source": [
    "Esolv = array([-4898.617036, -4898.494954, -4898.420426]) #kcal/mol\n",
    "N=array([2348, 4744, 9414])  #N° Elementos\n",
    "\n",
    "fsolvanalitico_solv= -4898.32722  #kcal/mol\n",
    "\n",
    "r=2\n",
    "p_solv = log((Esolv[0] - Esolv[1])/(Esolv[1] - Esolv[2]))/log(r)\n",
    "print(\"p_solv: \", p_solv)\n",
    "print('E_solv_analitico:',fsolvanalitico_solv,'Kcal/mol')"
   ]
  },
  {
   "cell_type": "code",
   "execution_count": 12,
   "metadata": {
    "collapsed": true
   },
   "outputs": [],
   "source": [
    "PyGerr_solv = abs(Esolv-fsolvanalitico_solv)/abs(fsolvanalitico_solv)\n",
    "figure(figsize=(3,2), dpi=80)\n",
    "loglog(N, PyGerr_solv, c='k', marker='o', mfc='w', ms=3, ls='', lw=0.5, label=\"E = 0.8\")\n",
    "loglog(N, 0.15/(N), c='k', marker='', mfc='w', ms=3, ls=':', lw=0.8, label=None)\n",
    "text(3e3, 0.25e-3,'1/N',fontsize=4,rotation=-8)\n",
    "ylabel('Error Esolv', fontsize=10)\n",
    "xlabel('N mesh',fontsize=10)\n",
    "subplots_adjust(left=0.25, bottom=0.25, right=0.96, top=0.96)\n",
    "axis([1000,100000,0.0000001, 1])\n",
    "legend(loc='lower right')\n",
    "savefig('convergencia_kappa1e-12/Error_Esfera_Esolv_Ef0.8_k0.0_pygbe.pdf')\n",
    "clf()"
   ]
  },
  {
   "cell_type": "markdown",
   "metadata": {
    "collapsed": true
   },
   "source": [
    "#### Efield = 1.6 y _k_ = 1e-12"
   ]
  },
  {
   "cell_type": "code",
   "execution_count": 13,
   "metadata": {},
   "outputs": [
    {
     "name": "stdout",
     "output_type": "stream",
     "text": [
      "p_solv:  0.685653191656\n",
      "E_solv_analitico: -9783.597808 Kcal/mol\n"
     ]
    }
   ],
   "source": [
    "Esolv = array([-9784.135606, -9783.912335, -9783.773522]) #kcal/mol\n",
    "N=array([2348, 4744, 9414])  #N° Elementos\n",
    "\n",
    "fsolvanalitico_solv= -9783.597808  #kcal/mol\n",
    "\n",
    "r=2\n",
    "p_solv = log((Esolv[0] - Esolv[1])/(Esolv[1] - Esolv[2]))/log(r)\n",
    "print(\"p_solv: \", p_solv)\n",
    "print('E_solv_analitico:',fsolvanalitico_solv,'Kcal/mol')"
   ]
  },
  {
   "cell_type": "code",
   "execution_count": 14,
   "metadata": {
    "collapsed": true
   },
   "outputs": [],
   "source": [
    "PyGerr_solv = abs(Esolv-fsolvanalitico_solv)/abs(fsolvanalitico_solv)\n",
    "figure(figsize=(3,2), dpi=80)\n",
    "loglog(N, PyGerr_solv, c='k', marker='o', mfc='w', ms=3, ls='', lw=0.5, label=\"E = 1.6\")\n",
    "loglog(N, 0.15/(N), c='k', marker='', mfc='w', ms=3, ls=':', lw=0.8, label=None)\n",
    "text(3e3, 0.25e-3,'1/N',fontsize=4,rotation=-8)\n",
    "ylabel('Error Esolv', fontsize=10)\n",
    "xlabel('N mesh',fontsize=10)\n",
    "subplots_adjust(left=0.25, bottom=0.25, right=0.96, top=0.96)\n",
    "axis([1000,100000,0.0000001, 1])\n",
    "legend(loc='lower right')\n",
    "savefig('convergencia_kappa1e-12/Error_Esfera_Esolv_Ef1.6_k0.0_pygbe.pdf')\n",
    "clf()"
   ]
  },
  {
   "cell_type": "markdown",
   "metadata": {},
   "source": [
    "#### Efield = 2.4 y _k_ = 1e-12"
   ]
  },
  {
   "cell_type": "code",
   "execution_count": 15,
   "metadata": {},
   "outputs": [
    {
     "name": "stdout",
     "output_type": "stream",
     "text": [
      "p_solv:  0.675795299409\n",
      "E_solv_analitico: -14668.868395 Kcal/mol\n"
     ]
    }
   ],
   "source": [
    "Esolv = array([-14669.654176, -14669.329722, -14669.126618]) #kcal/mol\n",
    "N=array([2348, 4744, 9414])  #N° Elementos\n",
    "\n",
    "fsolvanalitico_solv= -14668.868395  #kcal/mol\n",
    "\n",
    "r=2\n",
    "p_solv = log((Esolv[0] - Esolv[1])/(Esolv[1] - Esolv[2]))/log(r)\n",
    "print(\"p_solv: \", p_solv)\n",
    "print('E_solv_analitico:',fsolvanalitico_solv,'Kcal/mol')"
   ]
  },
  {
   "cell_type": "code",
   "execution_count": 16,
   "metadata": {
    "collapsed": true
   },
   "outputs": [],
   "source": [
    "PyGerr_solv = abs(Esolv-fsolvanalitico_solv)/abs(fsolvanalitico_solv)\n",
    "figure(figsize=(3,2), dpi=80)\n",
    "loglog(N, PyGerr_solv, c='k', marker='o', mfc='w', ms=3, ls='', lw=0.5, label=\"E = 2.4\")\n",
    "loglog(N, 0.15/(N), c='k', marker='', mfc='w', ms=3, ls=':', lw=0.8, label=None)\n",
    "text(3e3, 0.25e-3,'1/N',fontsize=4,rotation=-8)\n",
    "ylabel('Error Esolv', fontsize=10)\n",
    "xlabel('N mesh',fontsize=10)\n",
    "subplots_adjust(left=0.25, bottom=0.25, right=0.96, top=0.96)\n",
    "axis([1000,100000,0.0000001, 1])\n",
    "legend(loc='lower right')\n",
    "savefig('convergencia_kappa1e-12/Error_Esfera_Esolv_Ef2.4_k0.0_pygbe.pdf')\n",
    "clf()"
   ]
  },
  {
   "cell_type": "code",
   "execution_count": null,
   "metadata": {
    "collapsed": true
   },
   "outputs": [],
   "source": []
  },
  {
   "cell_type": "code",
   "execution_count": null,
   "metadata": {
    "collapsed": true
   },
   "outputs": [],
   "source": []
  }
 ],
 "metadata": {
  "kernelspec": {
   "display_name": "Python 3",
   "language": "python",
   "name": "python3"
  },
  "language_info": {
   "codemirror_mode": {
    "name": "ipython",
    "version": 3
   },
   "file_extension": ".py",
   "mimetype": "text/x-python",
   "name": "python",
   "nbconvert_exporter": "python",
   "pygments_lexer": "ipython3",
   "version": "3.6.2"
  }
 },
 "nbformat": 4,
 "nbformat_minor": 2
}
