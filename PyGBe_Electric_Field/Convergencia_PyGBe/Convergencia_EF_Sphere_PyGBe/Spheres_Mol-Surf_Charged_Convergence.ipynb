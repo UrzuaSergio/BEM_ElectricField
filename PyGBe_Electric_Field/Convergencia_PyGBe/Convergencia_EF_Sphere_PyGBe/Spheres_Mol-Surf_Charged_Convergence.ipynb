{
 "cells": [
  {
   "cell_type": "code",
   "execution_count": 2,
   "metadata": {
    "collapsed": true
   },
   "outputs": [],
   "source": [
    "from numpy import *\n",
    "from pylab import *"
   ]
  },
  {
   "cell_type": "markdown",
   "metadata": {},
   "source": [
    "### Esfera con Carga Electrica Puntual cerca de Superficie Esferica con Densidad de Carga bajo a un Campo Electrico Externo"
   ]
  },
  {
   "cell_type": "markdown",
   "metadata": {},
   "source": [
    "#### Parametros PyGBe\n",
    "\n",
    "\tUse GPU                 : 0\n",
    "\tP                       : 15\n",
    "\tthreshold               : 0.50\n",
    "\ttheta                   : 0.50\n",
    "\tNCRIT                   : 500\n",
    "\tCUDA block size         : 128\n",
    "\tGauss points per element: 3\n",
    "\tGauss points near singlr: 19\n",
    "\t1D Gauss points per side: 9\n",
    "\tGMRES tolerance         : 1e-05\n",
    "\tGMRES max iterations    : 1000\n",
    "\tGMRES restart iteration : 200"
   ]
  },
  {
   "cell_type": "markdown",
   "metadata": {},
   "source": [
    "#### Efield = 0. y _k_ = 0.125"
   ]
  },
  {
   "cell_type": "code",
   "execution_count": 3,
   "metadata": {},
   "outputs": [
    {
     "name": "stdout",
     "output_type": "stream",
     "text": [
      "p_solv:  1.05724401207\n",
      "p_surf:  1.05320362641\n",
      "E_solv_analitico: -849.695872875 Kcal/mol\n",
      "E_surf_analitico: 89683115.3048 Kcal/mol\n"
     ]
    }
   ],
   "source": [
    "Esolv = array([-847.193807643251,-848.4670797997973, -849.0789496892962 ]) #kcal/mol\n",
    "Esurf = array([89425043.0246972, 89556308.46127957, 89619564.86597002]) #kcal/mol\n",
    "N=array([2348*2, 4744*2, 9414*2])  #N° Elementos\n",
    "E0 = 0.0\n",
    "fsolvanalitico_solv = -849.695872875 \n",
    "fsolvanalitico_surf = 89683115.3048 \n",
    "\n",
    "r=2\n",
    "p_solv = log((Esolv[0] - Esolv[1])/(Esolv[1] - Esolv[2]))/log(r)\n",
    "p_surf = log((Esurf[0] - Esurf[1])/(Esurf[1] - Esurf[2]))/log(r)\n",
    "print(\"p_solv: \", p_solv)\n",
    "print(\"p_surf: \", p_surf)\n",
    "\n",
    "print('E_solv_analitico:',fsolvanalitico_solv,'Kcal/mol')\n",
    "print('E_surf_analitico:',fsolvanalitico_surf,'Kcal/mol')"
   ]
  },
  {
   "cell_type": "code",
   "execution_count": 4,
   "metadata": {},
   "outputs": [
    {
     "name": "stdout",
     "output_type": "stream",
     "text": [
      "[ 0.29446597  0.14461563  0.07260518]\n"
     ]
    }
   ],
   "source": [
    "PyGerr_solv = abs(Esolv-fsolvanalitico_solv)/abs(fsolvanalitico_solv)\n",
    "print(PyGerr_solv*100)\n",
    "figure(figsize=(3,2), dpi=80)\n",
    "loglog(N, PyGerr_solv, c='k', marker='o', mfc='w', ms=3, ls='', lw=0.2, label=\"$E_{solv}$: $E_{0} = 0.0$ - $\\sigma_{0} = -80$\")\n",
    "loglog(N, 12./(N), c='k', marker='', mfc='w', ms=3, ls=':', lw=0.8, label=None)\n",
    "text(6e3, 0.35e-2,'1/N',fontsize=4,rotation=-8)\n",
    "ylabel('Error Esolv', fontsize=10)\n",
    "xlabel('N mesh',fontsize=10)\n",
    "subplots_adjust(left=0.25, bottom=0.25, right=0.96, top=0.92)\n",
    "axis([1000,50000,0.000001, 1])\n",
    "legend(loc='lower right', fontsize = 7)\n",
    "savefig('convergencia_surf_charged_kappa0.125/Error_Esferas_Esolv_Ef0.0_k0.125_pygbe.pdf')\n",
    "clf()"
   ]
  },
  {
   "cell_type": "code",
   "execution_count": 5,
   "metadata": {},
   "outputs": [
    {
     "name": "stdout",
     "output_type": "stream",
     "text": [
      "[ 0.28776016  0.14139433  0.0708611 ]\n"
     ]
    }
   ],
   "source": [
    "PyGerr_surf = abs(Esurf-fsolvanalitico_surf)/abs(fsolvanalitico_surf)\n",
    "print(PyGerr_surf*100)\n",
    "figure(figsize=(3,2), dpi=80)\n",
    "loglog(N, PyGerr_surf, c='k', marker='1', mfc='w', ms=3, ls='', lw=0.2, label=\"$E_{surf}$: $E_{0} = 0.0$ - $\\sigma_{0} = -80$\")\n",
    "loglog(N, 12./(N), c='k', marker='', mfc='w', ms=3, ls=':', lw=0.8, label=None)\n",
    "text(6e3, 0.35e-2,'1/N',fontsize=4,rotation=-8)\n",
    "ylabel('Error Esurf', fontsize=10)\n",
    "xlabel('N mesh',fontsize=10)\n",
    "subplots_adjust(left=0.25, bottom=0.25, right=0.96, top=0.92)\n",
    "axis([1000,50000,0.000001, 1])\n",
    "legend(loc='lower right', fontsize = 7)\n",
    "savefig('convergencia_surf_charged_kappa0.125/Error_Esferas_Esurf_Ef0.0_k0.125_pygbe.pdf')\n",
    "clf()"
   ]
  },
  {
   "cell_type": "markdown",
   "metadata": {},
   "source": [
    "#### Efield = 0.8 y _k_ = 0.125"
   ]
  },
  {
   "cell_type": "code",
   "execution_count": 6,
   "metadata": {},
   "outputs": [
    {
     "name": "stdout",
     "output_type": "stream",
     "text": [
      "p_solv:  1.27413484231\n",
      "p_surf:  1.03046658718\n",
      "E_solv_analitico: -5364.45659214 Kcal/mol\n",
      "E_surf_analitico: 467661874.588 Kcal/mol\n"
     ]
    }
   ],
   "source": [
    "Esolv = array([-5363.550562034498,-5364.084485854837,-5364.305248958319]) #kcal/mol\n",
    "Esurf = array([466338009.86767906,467004510.1886354,467330796.6174517]) #kcal/mol\n",
    "N=array([2348*2, 4744*2, 9414*2])  #N° Elementos\n",
    "E0 = 0.8\n",
    "fsolvanalitico_solv = -5364.45659214  \n",
    "fsolvanalitico_surf = 467661874.588  \n",
    "\n",
    "r=2\n",
    "p_solv = log((Esolv[0] - Esolv[1])/(Esolv[1] - Esolv[2]))/log(r)\n",
    "p_surf = log((Esurf[0] - Esurf[1])/(Esurf[1] - Esurf[2]))/log(r)\n",
    "print(\"p_solv: \", p_solv)\n",
    "print(\"p_surf: \", p_surf)\n",
    "\n",
    "print('E_solv_analitico:',fsolvanalitico_solv,'Kcal/mol')\n",
    "print('E_surf_analitico:',fsolvanalitico_surf,'Kcal/mol')"
   ]
  },
  {
   "cell_type": "code",
   "execution_count": null,
   "metadata": {
    "collapsed": true
   },
   "outputs": [],
   "source": []
  },
  {
   "cell_type": "code",
   "execution_count": 7,
   "metadata": {},
   "outputs": [
    {
     "name": "stdout",
     "output_type": "stream",
     "text": [
      "[ 0.0168895   0.00693651  0.00282122]\n"
     ]
    }
   ],
   "source": [
    "PyGerr_solv = abs(Esolv-fsolvanalitico_solv)/abs(fsolvanalitico_solv)\n",
    "print(PyGerr_solv*100)\n",
    "figure(figsize=(3,2), dpi=80)\n",
    "loglog(N, PyGerr_solv, c='k', marker='o', mfc='w', ms=3, ls='', lw=0.2, label=\"$E_{solv}$: $E_{0} = 0.8$ - $\\sigma_{0} = -80$\")\n",
    "loglog(N, 0.6/(N), c='k', marker='', mfc='w', ms=3, ls=':', lw=0.8, label=None)\n",
    "text(6e3, 0.2e-3,'1/N',fontsize=4,rotation=-8)\n",
    "ylabel('Error Esolv', fontsize=10)\n",
    "xlabel('N mesh',fontsize=10)\n",
    "subplots_adjust(left=0.25, bottom=0.25, right=0.96, top=0.92)\n",
    "axis([1000,50000,0.000000001, 0.01])\n",
    "legend(loc='lower right', fontsize = 7)\n",
    "savefig('convergencia_surf_charged_kappa0.125/Error_Esferas_Esolv_Ef0.8_k0.125_pygbe.pdf')\n",
    "clf()"
   ]
  },
  {
   "cell_type": "code",
   "execution_count": 8,
   "metadata": {},
   "outputs": [
    {
     "name": "stdout",
     "output_type": "stream",
     "text": [
      "[ 0.2830816   0.14056403  0.0707943 ]\n"
     ]
    }
   ],
   "source": [
    "PyGerr_surf = abs(Esurf-fsolvanalitico_surf)/abs(fsolvanalitico_surf)\n",
    "print(PyGerr_surf*100)\n",
    "figure(figsize=(3,2), dpi=80)\n",
    "loglog(N, PyGerr_surf, c='k', marker='1', mfc='w', ms=3, ls='', lw=0.2, label=\"$E_{surf}$: $E_{0} = 0.8$ - $\\sigma_{0} = -80$\")\n",
    "loglog(N, 12./(N), c='k', marker='', mfc='w', ms=3, ls=':', lw=0.8, label=None)\n",
    "text(6e3, 0.35e-2,'1/N',fontsize=4,rotation=-8)\n",
    "ylabel('Error Esurf', fontsize=10)\n",
    "xlabel('N mesh',fontsize=10)\n",
    "subplots_adjust(left=0.25, bottom=0.25, right=0.96, top=0.92)\n",
    "axis([1000,50000,0.000001, 1])\n",
    "legend(loc='lower right', fontsize = 7)\n",
    "savefig('convergencia_surf_charged_kappa0.125/Error_Esferas_Esurf_Ef0.8_k0.125_pygbe.pdf')\n",
    "clf()"
   ]
  },
  {
   "cell_type": "markdown",
   "metadata": {},
   "source": [
    "#### Efield = -0.8 y _k_ = 0.125"
   ]
  },
  {
   "cell_type": "code",
   "execution_count": 9,
   "metadata": {},
   "outputs": [
    {
     "name": "stdout",
     "output_type": "stream",
     "text": [
      "p_solv:  0.998762040125\n",
      "p_surf:  1.01714512314\n",
      "E_solv_analitico: 3665.06484639 Kcal/mol\n",
      "E_surf_analitico: -288295643.979 Kcal/mol\n"
     ]
    }
   ],
   "source": [
    "Esolv = array([3669.1938070475626,3667.153054123416,3666.131801712373]) #kcal/mol\n",
    "Esurf = array([-287487974.2853614,-287892072.1235804,-288091734.08589244]) #kcal/mol\n",
    "N=array([2348*2, 4744*2, 9414*2])  #N° Elementos\n",
    "E0 = -0.8\n",
    "fsolvanalitico_solv = 3665.06484639  \n",
    "fsolvanalitico_surf = -288295643.979\n",
    "\n",
    "r=2\n",
    "p_solv = log((Esolv[0] - Esolv[1])/(Esolv[1] - Esolv[2]))/log(r)\n",
    "p_surf = log((Esurf[0] - Esurf[1])/(Esurf[1] - Esurf[2]))/log(r)\n",
    "print(\"p_solv: \", p_solv)\n",
    "print(\"p_surf: \", p_surf)\n",
    "\n",
    "print('E_solv_analitico:',fsolvanalitico_solv,'Kcal/mol')\n",
    "print('E_surf_analitico:',fsolvanalitico_surf,'Kcal/mol')"
   ]
  },
  {
   "cell_type": "code",
   "execution_count": null,
   "metadata": {
    "collapsed": true
   },
   "outputs": [],
   "source": []
  },
  {
   "cell_type": "code",
   "execution_count": 10,
   "metadata": {},
   "outputs": [
    {
     "name": "stdout",
     "output_type": "stream",
     "text": [
      "[ 0.11265723  0.05697601  0.0291115 ]\n"
     ]
    }
   ],
   "source": [
    "PyGerr_solv = abs(Esolv-fsolvanalitico_solv)/abs(fsolvanalitico_solv)\n",
    "print(PyGerr_solv*100)\n",
    "figure(figsize=(3,2), dpi=80)\n",
    "loglog(N, PyGerr_solv, c='k', marker='o', mfc='w', ms=3, ls='', lw=0.2, label=\"$E_{solv}$: $E_{0} = -0.8$ - $\\sigma_{0} = -80$\")\n",
    "loglog(N, 5./(N), c='k', marker='', mfc='w', ms=3, ls=':', lw=0.8, label=None)\n",
    "text(6e3, 0.1e-2,'1/N',fontsize=4,rotation=-8)\n",
    "ylabel('Error Esolv', fontsize=10)\n",
    "xlabel('N mesh',fontsize=10)\n",
    "subplots_adjust(left=0.25, bottom=0.25, right=0.96, top=0.92)\n",
    "axis([1000,50000,0.000001, 1])\n",
    "legend(loc='lower right', fontsize = 7)\n",
    "savefig('convergencia_surf_charged_kappa0.125/Error_Esferas_Esolv_Ef-0.8_k0.125_pygbe.pdf')\n",
    "clf()"
   ]
  },
  {
   "cell_type": "code",
   "execution_count": 11,
   "metadata": {},
   "outputs": [
    {
     "name": "stdout",
     "output_type": "stream",
     "text": [
      "[ 0.28015328  0.13998542  0.07072944]\n"
     ]
    }
   ],
   "source": [
    "PyGerr_surf = abs(Esurf-fsolvanalitico_surf)/abs(fsolvanalitico_surf)\n",
    "print(PyGerr_surf*100)\n",
    "figure(figsize=(3,2), dpi=80)\n",
    "loglog(N, PyGerr_surf, c='k', marker='1', mfc='w', ms=3, ls='', lw=0.2, label=\"$E_{surf}$: $E_{0} = -0.8$ - $\\sigma_{0} = -80$\")\n",
    "loglog(N, 12./(N), c='k', marker='', mfc='w', ms=3, ls=':', lw=0.8, label=None)\n",
    "text(6e3, 0.35e-2,'1/N',fontsize=4,rotation=-8)\n",
    "ylabel('Error Esurf', fontsize=10)\n",
    "xlabel('N mesh',fontsize=10)\n",
    "subplots_adjust(left=0.25, bottom=0.25, right=0.96, top=0.92)\n",
    "axis([1000,50000,0.000001, 1])\n",
    "legend(loc='lower right', fontsize = 7)\n",
    "savefig('convergencia_surf_charged_kappa0.125/Error_Esferas_Esurf_Ef-0.8_k0.125_pygbe.pdf')\n",
    "clf()"
   ]
  },
  {
   "cell_type": "code",
   "execution_count": null,
   "metadata": {
    "collapsed": true
   },
   "outputs": [],
   "source": []
  },
  {
   "cell_type": "code",
   "execution_count": null,
   "metadata": {
    "collapsed": true
   },
   "outputs": [],
   "source": []
  }
 ],
 "metadata": {
  "kernelspec": {
   "display_name": "Python 3",
   "language": "python",
   "name": "python3"
  },
  "language_info": {
   "codemirror_mode": {
    "name": "ipython",
    "version": 3
   },
   "file_extension": ".py",
   "mimetype": "text/x-python",
   "name": "python",
   "nbconvert_exporter": "python",
   "pygments_lexer": "ipython3",
   "version": "3.6.2"
  }
 },
 "nbformat": 4,
 "nbformat_minor": 2
}
