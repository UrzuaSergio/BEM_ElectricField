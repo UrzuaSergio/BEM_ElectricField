{
 "cells": [
  {
   "cell_type": "code",
   "execution_count": 2,
   "metadata": {},
   "outputs": [],
   "source": [
    "import numpy"
   ]
  },
  {
   "cell_type": "code",
   "execution_count": 28,
   "metadata": {
    "collapsed": true
   },
   "outputs": [],
   "source": [
    "file_gmsh=open('sphere_r4_gmsh0.35.mail','r')\n",
    "for line in file_gmsh:\n",
    "    line_1=line.split()\n",
    "    if len(line_1)==2:\n",
    "        Numero_de_vertices_malla = line_1[0]\n",
    "        Numero_de_elementos_malla = line_1[1]\n",
    "file_gmsh.close()"
   ]
  },
  {
   "cell_type": "code",
   "execution_count": 29,
   "metadata": {
    "collapsed": true
   },
   "outputs": [],
   "source": [
    "#GENERAR ARCHIVO PHI0\n",
    "carga='1.00000000000000000e+00'\n",
    "file_phi0=open('sphere_r4_gmsh0.35.phi0','w')\n",
    "for i in range(int(float(Numero_de_elementos_malla))):\n",
    "    linea='{0}\\n'.format(carga)\n",
    "    file_phi0.write(linea)\n",
    "file_phi0.close()"
   ]
  },
  {
   "cell_type": "code",
   "execution_count": 30,
   "metadata": {
    "collapsed": true
   },
   "outputs": [],
   "source": [
    "#GENERAR ARCHIVO VERT\n",
    "file_gmsh=open('sphere_r4_gmsh0.35.mail','r')\n",
    "file_aux=open('auxiliar.txt','w')\n",
    "for line in file_gmsh:\n",
    "    line_1=line.split()\n",
    "    if len(line_1)==3:\n",
    "        linea_vert_tri='{0} {1} {2}\\n'.format(line_1[0],line_1[1],line_1[2]) \n",
    "        file_aux.write(linea_vert_tri)\n",
    "        \n",
    "file_gmsh.close()\n",
    "file_aux.close()"
   ]
  },
  {
   "cell_type": "code",
   "execution_count": 31,
   "metadata": {
    "collapsed": true
   },
   "outputs": [],
   "source": [
    "import os\n",
    "\n",
    "file_auxiliar=open('auxiliar.txt','r')\n",
    "X=numpy.loadtxt(file_auxiliar)\n",
    "Xc=numpy.copy(X)\n"
   ]
  },
  {
   "cell_type": "code",
   "execution_count": 32,
   "metadata": {
    "collapsed": true
   },
   "outputs": [],
   "source": [
    "file_vert=open('sphere_r4_gmsh0.35.vert','w')\n",
    "file_faces=open('sphere_r4_gmsh0.35.face','w')\n",
    "\n",
    "for i in range(int(float(Numero_de_vertices_malla))):\n",
    "    linea_verts='{0} {1} {2}\\n'.format(Xc[i,0],Xc[i,1],Xc[i,2])\n",
    "    file_vert.write(linea_verts)\n",
    "    \n",
    "    \n",
    "for i in range(int(float(Numero_de_vertices_malla)),int(float(Numero_de_vertices_malla)) + int(float(Numero_de_elementos_malla)),1):\n",
    "    linea_faces='{0} {1} {2}\\n'.format(int(Xc[i,0]),int(Xc[i,1]),int(Xc[i,2]))\n",
    "    file_faces.write(linea_faces)\n",
    "    \n",
    "file_vert.close()\n",
    "file_faces.close()"
   ]
  },
  {
   "cell_type": "code",
   "execution_count": null,
   "metadata": {
    "collapsed": true
   },
   "outputs": [],
   "source": []
  },
  {
   "cell_type": "code",
   "execution_count": null,
   "metadata": {
    "collapsed": true
   },
   "outputs": [],
   "source": []
  }
 ],
 "metadata": {
  "kernelspec": {
   "display_name": "Python 3",
   "language": "python",
   "name": "python3"
  },
  "language_info": {
   "codemirror_mode": {
    "name": "ipython",
    "version": 3
   },
   "file_extension": ".py",
   "mimetype": "text/x-python",
   "name": "python",
   "nbconvert_exporter": "python",
   "pygments_lexer": "ipython3",
   "version": "3.6.2"
  }
 },
 "nbformat": 4,
 "nbformat_minor": 2
}
